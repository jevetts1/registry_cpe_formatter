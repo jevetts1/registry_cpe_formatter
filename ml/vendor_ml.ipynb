{
 "cells": [
  {
   "cell_type": "code",
   "execution_count": null,
   "metadata": {},
   "outputs": [],
   "source": [
    "import tensorflow as tf\n",
    "import numpy as np\n",
    "import pandas as pd\n",
    "from tensorflow.keras.layers import *\n",
    "from tensorflow.keras.preprocessing.sequence import pad_sequences\n",
    "from tensorflow.keras.preprocessing.text import Tokenizer\n",
    "from nltk.corpus import words\n",
    "import csv,random,pickle"
   ]
  },
  {
   "cell_type": "code",
   "execution_count": null,
   "metadata": {},
   "outputs": [],
   "source": [
    "#parsing data\n",
    "\n",
    "english_word_list = words.words()\n",
    "random.shuffle(english_word_list)\n",
    "english_word_list = list(map(lambda x:[x,0],english_word_list))\n",
    "\n",
    "company_names = pd.read_csv(\"companies_sorted.csv\",usecols = [\"name\"]).values.tolist()\n",
    "company_names = list(map(lambda x:[x[0],1],company_names))[:250000]\n",
    "\n",
    "company_names.extend(english_word_list)\n",
    "\n",
    "inputs_labels = company_names\n",
    "random.shuffle(inputs_labels)\n",
    "\n",
    "for line in inputs_labels:\n",
    "    try:\n",
    "        line[0].lower()\n",
    "    except:\n",
    "        inputs_labels.remove(line)\n",
    "\n",
    "    if len(line[0]) == 0:\n",
    "        inputs_labels.remove(line)"
   ]
  },
  {
   "cell_type": "code",
   "execution_count": null,
   "metadata": {},
   "outputs": [],
   "source": [
    "X = list(map(lambda x:x[0],inputs_labels))\n",
    "Y = list(map(lambda x:x[1],inputs_labels))"
   ]
  },
  {
   "cell_type": "code",
   "execution_count": null,
   "metadata": {},
   "outputs": [],
   "source": [
    "#*********************TOKENISER*********************\n",
    "\n",
    "tkn = Tokenizer()\n",
    "tkn.fit_on_texts(X)\n",
    "total_chars = len(tkn.word_index) + 1\n",
    "\n",
    "tokenised_list = tkn.texts_to_sequences(X)\n",
    "\n",
    "maxSequenceLen = max([len(x) for x in tokenised_list])\n",
    "inputSequences = np.array(pad_sequences(tokenised_list,maxlen = maxSequenceLen,padding = \"pre\"))"
   ]
  },
  {
   "cell_type": "code",
   "execution_count": 129,
   "metadata": {},
   "outputs": [],
   "source": [
    "#******************SAVE*TOKENISER********************\n",
    "\n",
    "with open(\"single_token_vendor_tokenizer.pickle\",\"wb\") as file:\n",
    "    pickle.dump(tkn,file,protocol = pickle.HIGHEST_PROTOCOL)"
   ]
  },
  {
   "cell_type": "code",
   "execution_count": null,
   "metadata": {},
   "outputs": [],
   "source": [
    "#*********************MODEL*********************\n",
    "\n",
    "model = tf.keras.Sequential()\n",
    "\n",
    "model.add(Embedding(total_chars,50,input_length = maxSequenceLen))\n",
    "model.add(LSTM(64))\n",
    "model.add(Dense(256,activation = \"relu\"))\n",
    "model.add(Dense(1,activation = \"sigmoid\"))\n",
    "\n",
    "model.compile(loss = \"mse\",optimizer = \"adam\")"
   ]
  },
  {
   "cell_type": "code",
   "execution_count": null,
   "metadata": {},
   "outputs": [],
   "source": [
    "tf.config.run_functions_eagerly(True)\n",
    "\n",
    "model.fit(inputSequences,np.array(Y),epochs = 2,verbose = 1)"
   ]
  },
  {
   "cell_type": "code",
   "execution_count": null,
   "metadata": {},
   "outputs": [],
   "source": [
    "model.fit(inputSequences,np.array(Y),epochs = 4,verbose = 1)"
   ]
  },
  {
   "cell_type": "code",
   "execution_count": null,
   "metadata": {},
   "outputs": [],
   "source": [
    "tokenised_sequence = tkn.texts_to_sequences([\"with thanks\"])\n",
    "\n",
    "test_sequence = np.array(pad_sequences(tokenised_sequence,maxlen = maxSequenceLen,padding = \"pre\"))\n",
    "\n",
    "model.predict(test_sequence)"
   ]
  },
  {
   "cell_type": "code",
   "execution_count": null,
   "metadata": {},
   "outputs": [],
   "source": [
    "model.save(\"single_token_vendor_model\")"
   ]
  }
 ],
 "metadata": {
  "kernelspec": {
   "display_name": "Python 3",
   "language": "python",
   "name": "python3"
  },
  "language_info": {
   "codemirror_mode": {
    "name": "ipython",
    "version": 3
   },
   "file_extension": ".py",
   "mimetype": "text/x-python",
   "name": "python",
   "nbconvert_exporter": "python",
   "pygments_lexer": "ipython3",
   "version": "3.9.7"
  },
  "orig_nbformat": 4,
  "vscode": {
   "interpreter": {
    "hash": "c1770a777f8a707a68323ad32b77ca7cbf6452a898f6348625ef54424c6744df"
   }
  }
 },
 "nbformat": 4,
 "nbformat_minor": 2
}
