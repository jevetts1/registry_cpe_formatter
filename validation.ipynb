{
 "cells": [
  {
   "cell_type": "code",
   "execution_count": 1,
   "metadata": {},
   "outputs": [],
   "source": [
    "from cpe_dict_loader import *\n",
    "from registry_query import *\n",
    "from cpe_similarity import *\n",
    "from validate import *\n",
    "import random"
   ]
  },
  {
   "cell_type": "code",
   "execution_count": 2,
   "metadata": {},
   "outputs": [],
   "source": [
    "software_inventory = get_installed_software()\n",
    "software_subset = [random.choice(software_inventory) for i in range(20)]"
   ]
  },
  {
   "cell_type": "code",
   "execution_count": null,
   "metadata": {},
   "outputs": [],
   "source": [
    "known_subset = [\n",
    "    \n",
    "]"
   ]
  },
  {
   "cell_type": "code",
   "execution_count": 3,
   "metadata": {},
   "outputs": [],
   "source": [
    "cpe_list = load_cpe_processed_json()"
   ]
  },
  {
   "cell_type": "code",
   "execution_count": 5,
   "metadata": {},
   "outputs": [],
   "source": [
    "all_matches = []\n",
    "validations = []\n",
    "correct = [0,0,0]\n",
    "\n",
    "for software in software_inventory:\n",
    "    best_match = {\"CPE\":None,\"Similarity\":0}\n",
    "\n",
    "    for cpe in cpe_list:\n",
    "        if software.get(\"Vendor\") and software.get(\"Name\"):               \n",
    "            similarity_score = return_similarity(cpe[1],software.get(\"Vendor\"),software.get(\"Name\"),software.get(\"Version\"))\n",
    "        \n",
    "        else: continue\n",
    "\n",
    "        if similarity_score > best_match[\"Similarity\"] and cpe[1][2] == \"a\" and cpe[1][10] in [\"*\",\"windows\"]:\n",
    "            best_match[\"CPE\"] = cpe[0]\n",
    "            best_match[\"Similarity\"] = similarity_score\n",
    "\n",
    "            best_cpe_split = cpe[1]\n",
    "\n",
    "    all_matches.append({\"Software\":software,\"Best_match\":best_match})\n",
    "\n",
    "    if software.get(\"Vendor\") and software.get(\"Name\"):  \n",
    "        validations.append(validate_selected_cpe(best_cpe_split,software.get(\"Vendor\"),software.get(\"Name\"),software.get(\"Version\")))\n",
    "\n",
    "for v in validations:\n",
    "    if v[\"Vendor\"]:\n",
    "        correct[0] += 1\n",
    "    if v[\"Name\"]:\n",
    "        correct[1] += 1\n",
    "    if v[\"Version\"]:\n",
    "        correct[2] += 1\n",
    "\n",
    "print(f\"Correct vendors: {correct[0] / len(software_inventory)}\\nCorrect names: {correct[1] / len(software_inventory)}\\nCorrect versions: {correct[2] / len(software_inventory)}\")"
   ]
  },
  {
   "cell_type": "code",
   "execution_count": 6,
   "metadata": {},
   "outputs": [
    {
     "name": "stdout",
     "output_type": "stream",
     "text": [
      "[{'Software': {'Vendor': 'GOG.com', 'Name': 'SPORE™ Collection', 'Version': '2.0.0.5'}, 'Best_match': {'CPE': 'cpe:2.3:a:gog:galaxy:2.0.12.48:*:*:*:*:windows:*:*', 'Similarity': 0.4646424474327932}}, {'Software': {'Vendor': 'Microsoft Corporation', 'Name': 'Visual Studio Community 2019', 'Version': '16.11.22'}, 'Best_match': {'CPE': 'cpe:2.3:a:microsoft:visual_studio_2019:16.11.0:*:*:*:*:*:*:*', 'Similarity': 0.9562000022835389}}, {'Software': {'Vendor': 'Microsoft Corporation', 'Name': 'Visual Studio Build Tools 2022', 'Version': '17.4.3'}, 'Best_match': {'CPE': 'cpe:2.3:a:microsoft:visual_studio_2022:17.0.3:*:*:*:*:*:*:*', 'Similarity': 0.9486642068846837}}]\n"
     ]
    }
   ],
   "source": [
    "print(all_matches)"
   ]
  }
 ],
 "metadata": {
  "kernelspec": {
   "display_name": "Python 3",
   "language": "python",
   "name": "python3"
  },
  "language_info": {
   "codemirror_mode": {
    "name": "ipython",
    "version": 3
   },
   "file_extension": ".py",
   "mimetype": "text/x-python",
   "name": "python",
   "nbconvert_exporter": "python",
   "pygments_lexer": "ipython3",
   "version": "3.9.7"
  },
  "orig_nbformat": 4,
  "vscode": {
   "interpreter": {
    "hash": "c1770a777f8a707a68323ad32b77ca7cbf6452a898f6348625ef54424c6744df"
   }
  }
 },
 "nbformat": 4,
 "nbformat_minor": 2
}
