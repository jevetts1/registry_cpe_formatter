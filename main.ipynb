{
 "cells": [
  {
   "cell_type": "code",
   "execution_count": 6,
   "metadata": {},
   "outputs": [],
   "source": [
    "from cpe_dict_loader import *\n",
    "from registry_query import *\n",
    "from cpe_similarity import *\n",
    "from ml_importance import *\n",
    "import json,random"
   ]
  },
  {
   "cell_type": "code",
   "execution_count": 2,
   "metadata": {},
   "outputs": [],
   "source": [
    "software_inventory = get_installed_software()\n",
    "cpe_list = load_cpe_processed_json()"
   ]
  },
  {
   "cell_type": "code",
   "execution_count": 3,
   "metadata": {},
   "outputs": [],
   "source": [
    "test_set = [{\"Vendor\":\"Google Corporation LTD\",\"Name\":\"Chrome 0.1.38\",\"Version\":\"1.54345.123\"},\n",
    "            {\"Vendor\":\"Random Corp\",\"Name\":\"Discord Chat and Message 0.0.4\",\"Version\":\"0.5\"},\n",
    "            {\"Vendor\":\"Microsoft Corporation\",\"Name\":\"Microsoft Edge\",\"Version\":\"80.0\"},\n",
    "            {\"Vendor\":\"Spotify\",\"Name\":\"Spotify for Windows\",\"Version\":\"2\"},\n",
    "            {\"Vendor\":\"Python Software Foundation\",\"Name\":\"Python 2.7 (x64) Binary\",\"Version\":\"2\"}]\n",
    "\n",
    "with open(\"test_cpe_set.json\",\"r\") as file:\n",
    "    test_set = json.load(file)"
   ]
  },
  {
   "cell_type": "code",
   "execution_count": 9,
   "metadata": {},
   "outputs": [
    {
     "name": "stdout",
     "output_type": "stream",
     "text": [
      "{'Software': {'Vendor': 'Microsoft Corporation', 'Name': 'Windows SDK for Windows Store Apps DirectX x86 Remote', 'Version': '10.1.19041.685'}, 'Best_match': {'CPE': 'cpe:2.3:a:microsoft:directx:10.1:-:*:*:*:*:*:*', 'Similarity': 0.7243391568771036}}\n",
      "{'Software': {'Vendor': 'Microsoft Corporation', 'Name': 'WinRT Intellisense PPI - en-us', 'Version': '10.1.22000.832'}, 'Best_match': {'CPE': 'cpe:2.3:a:microsoft:defender_for_endpoint_edr_sensor:10.8047.22439.1056:*:*:*:*:*:*:*', 'Similarity': 0.8845575383616279}}\n",
      "{'Software': {'Vendor': 'Microsoft Corporation', 'Name': 'Universal CRT Extension SDK', 'Version': '10.1.19041.685'}, 'Best_match': {'CPE': 'cpe:2.3:a:microsoft:directx:10.1:-:*:*:*:*:*:*', 'Similarity': 0.4762920912615728}}\n",
      "{'Software': {'Vendor': 'Electronic Arts, Inc.', 'Name': 'Titanfall™ 2', 'Version': '1.0.1.3'}, 'Best_match': {'CPE': 'cpe:2.3:a:libgit2:libgit2:1.0.1:*:*:*:*:*:*:*', 'Similarity': 0.3244896478894252}}\n",
      "{'Software': {'Vendor': 'Microsoft Corporation', 'Name': 'Microsoft Visual C++ 2012 Redistributable (x64) - 11.0.60610', 'Version': '11.0.60610.1'}, 'Best_match': {'CPE': 'cpe:2.3:a:microsoft:windows_media_player:11.0.5721.5145:*:*:*:*:*:*:*', 'Similarity': 0.9580750231970616}}\n",
      "{'Software': {'Vendor': 'Microsoft Corporation', 'Name': 'Microsoft Visual C++ 2013 x86 Minimum Runtime - 12.0.40664', 'Version': '12.0.40664'}, 'Best_match': {'CPE': 'cpe:2.3:a:microsoft:visual_c\\\\+\\\\+:8.0:*:*:*:*:*:*:*', 'Similarity': 0.9478079614697226}}\n",
      "{'Software': {'Vendor': 'Oracle Corporation', 'Name': 'Java(TM) SE Development Kit 11.0.15.1 (64-bit)', 'Version': '11.0.15.1'}, 'Best_match': {'CPE': 'cpe:2.3:a:oracle:java_se:11.0.3:*:*:*:*:*:*:*', 'Similarity': 0.681016725356985}}\n",
      "{'Software': {'Vendor': 'Microsoft Corporation', 'Name': 'Windows SDK Signing Tools', 'Version': '10.1.22000.832'}, 'Best_match': {'CPE': 'cpe:2.3:a:microsoft:windows_media_player:10.00.00.3646:*:*:*:*:*:*:*', 'Similarity': 0.5602866256771721}}\n",
      "{'Software': {'Vendor': 'Image-Line', 'Name': 'FL Studio ASIO', 'Version': ''}, 'Best_match': {'CPE': 'cpe:2.3:a:tensorflow:tensorflow:-:*:*:*:-:*:*:*', 'Similarity': 0.31324457853530574}}\n",
      "{'Software': {'Vendor': 'Microsoft Corporation', 'Name': 'Microsoft.NET.Sdk.macOS.Manifest-6.0.300', 'Version': '100.255.42208'}, 'Best_match': {'CPE': 'cpe:2.3:a:microsoft:.net:6.0.0:-:*:*:*:*:*:*', 'Similarity': 0.880258714015874}}\n",
      "{'Software': {'Vendor': 'Microsoft Corporation', 'Name': 'Microsoft ASP.NET Core 7.0.1 Targeting Pack (x64)', 'Version': '7.0.1.22568'}, 'Best_match': {'CPE': 'cpe:2.3:a:microsoft:powershell_core:7.0.1:*:*:*:*:*:*:*', 'Similarity': 0.9111135936012137}}\n",
      "{'Software': {'Vendor': 'Microsoft Corporation', 'Name': 'Microsoft Windows Desktop Runtime - 7.0.1 (x64)', 'Version': '56.7.52113'}, 'Best_match': {'CPE': 'cpe:2.3:a:microsoft:windows_media_format_runtime:7.1:*:*:*:*:*:*:*', 'Similarity': 0.9712016544833505}}\n",
      "{'Software': {'Vendor': 'Kinetic Games', 'Name': 'Phasmophobia', 'Version': ''}, 'Best_match': {'CPE': 'cpe:2.3:a:silverwaregames:silverwaregames:-:*:*:*:*:*:*:*', 'Similarity': 0.3403642569416497}}\n",
      "{'Software': {'Vendor': 'Microsoft Corporation', 'Name': 'Microsoft GameInput', 'Version': '10.1.22621.1863'}, 'Best_match': {'CPE': 'cpe:2.3:a:microsoft:microsoft.powershell.archive:1.1.0.0:*:*:*:*:*:*:*', 'Similarity': 0.8668908601235706}}\n",
      "{'Software': {'Vendor': 'Microsoft Corporation', 'Name': 'Office 16 Click-to-Run Localization Component', 'Version': '16.0.13801.20638'}, 'Best_match': {'CPE': 'cpe:2.3:a:microsoft:office:3.0:*:*:*:*:*:*:*', 'Similarity': 0.7092156268803191}}\n",
      "{'Software': {'Vendor': 'Microsoft Corporation', 'Name': 'Microsoft Visual Studio 2010 Tools for Office Runtime (x64)', 'Version': '10.0.60830'}, 'Best_match': {'CPE': 'cpe:2.3:a:microsoft:visual_studio:6.0:*:*:*:*:*:*:*', 'Similarity': 0.90869761414096}}\n",
      "{'Software': {'Vendor': 'Microsoft', 'Name': 'Kits Configuration Installer', 'Version': '10.1.19041.685'}, 'Best_match': {'CPE': 'cpe:2.3:a:microsoft:directx:10.1:-:*:*:*:*:*:*', 'Similarity': 0.6793171460837547}}\n",
      "{'Software': {'Vendor': 'Meta Fork', 'Name': 'FPS Chess', 'Version': ''}, 'Best_match': {'CPE': 'cpe:2.3:a:metamask:metamask:-:*:*:*:*:*:*:*', 'Similarity': 0.3802923896886074}}\n",
      "{'Software': {'Vendor': 'Microsoft Corporation', 'Name': 'Windows SDK Facade Windows WinMD Versioned', 'Version': '10.1.19041.685'}, 'Best_match': {'CPE': 'cpe:2.3:a:microsoft:windows_media_player:10.00.00.3646:*:*:*:*:*:*:*', 'Similarity': 0.5089549661521274}}\n",
      "{'Software': {'Vendor': 'Microsoft Corporation', 'Name': 'vs_filehandler_amd64', 'Version': '17.4.33006'}, 'Best_match': {'CPE': 'cpe:2.3:a:microsoft:vscode-maven:0.4.0:*:*:*:*:*:*:*', 'Similarity': 0.4853506242917278}}\n",
      "{'Software': {'Vendor': 'Advanced Micro Devices, Inc.', 'Name': 'AMD Settings', 'Version': '2022.0915.1840.1936'}, 'Best_match': {'CPE': 'cpe:2.3:a:microsoft:photos:2022.30050.31008.0:*:*:*:*:*:*:*', 'Similarity': 0.174404509839201}}\n",
      "{'Software': {'Vendor': 'Microsoft Corporation', 'Name': 'Windows SDK Desktop Tools arm64', 'Version': '10.1.22000.832'}, 'Best_match': {'CPE': 'cpe:2.3:a:microsoft:windows_media_player:10.00.00.3646:*:*:*:*:*:*:*', 'Similarity': 0.558664775333769}}\n",
      "{'Software': {'Vendor': 'Samsung Electronics Co., Ltd.', 'Name': 'Samsung Kies', 'Version': '2.6.4.17113.1'}, 'Best_match': {'CPE': 'cpe:2.3:a:samsung:kies:2.6.4.22014_2:*:*:*:*:*:*:*', 'Similarity': 0.8946323510078805}}\n",
      "{'Software': {'Vendor': 'Microsoft Corporation', 'Name': 'Microsoft .NET 6.0 Templates 6.0.404 (x64)', 'Version': '24.7.30136'}, 'Best_match': {'CPE': 'cpe:2.3:a:microsoft:.net:6.0.0:-:*:*:*:*:*:*', 'Similarity': 0.9164249168886184}}\n",
      "{'Software': {'Vendor': 'Microsoft Corporation', 'Name': 'Microsoft.NET.Workload.Mono.Toolchain.Manifest', 'Version': '48.3.40665'}, 'Best_match': {'CPE': 'cpe:2.3:a:microsoft:.net:3.5.1:*:*:*:*:*:*:*', 'Similarity': 0.6558562965820124}}\n",
      "{'Software': {'Vendor': 'Microsoft Corporation', 'Name': 'Microsoft Visual C++ 2012 Redistributable (x86) - 11.0.61030', 'Version': '11.0.61030.0'}, 'Best_match': {'CPE': 'cpe:2.3:a:microsoft:windows_media_player:11.0.5721.5145:*:*:*:*:*:*:*', 'Similarity': 0.9580750231970616}}\n",
      "{'Software': {'Vendor': 'Microsoft Corporation', 'Name': 'Microsoft .NET Toolset 7.0.101 (x64)', 'Version': '28.5.30224'}, 'Best_match': {'CPE': 'cpe:2.3:a:microsoft:.net:3.5.1:*:*:*:*:*:*:*', 'Similarity': 0.8784750640606399}}\n",
      "{'Software': {'Vendor': 'JetBrains s.r.o.', 'Name': 'PyCharm Community Edition 2021.2.2', 'Version': '212.5284.44'}, 'Best_match': {'CPE': 'cpe:2.3:a:jetbrains:pycharm:2021.3.1:2021.3.1:*:*:professional:*:*:*', 'Similarity': 0.7779963125120127}}\n",
      "{'Software': {'Vendor': 'Microsoft Corporation', 'Name': 'Microsoft .NET Targeting Pack - 7.0.1 (x64)', 'Version': '56.7.51940'}, 'Best_match': {'CPE': 'cpe:2.3:a:microsoft:powershell_core:7.0.1:*:*:*:*:*:*:*', 'Similarity': 0.9725899270017396}}\n",
      "{'Software': {'Vendor': 'Ubisoft', 'Name': 'UNO', 'Version': ''}, 'Best_match': {'CPE': 'cpe:2.3:a:ubisoft:uplay:63.0.5699.0:*:*:*:*:*:*:*', 'Similarity': 0.2689991969556967}}\n"
     ]
    },
    {
     "ename": "KeyboardInterrupt",
     "evalue": "",
     "output_type": "error",
     "traceback": [
      "\u001b[1;31m---------------------------------------------------------------------------\u001b[0m",
      "\u001b[1;31mKeyboardInterrupt\u001b[0m                         Traceback (most recent call last)",
      "\u001b[1;32mc:\\Users\\jayde\\Desktop\\KAZE work\\registry_cpe_formatter\\main.ipynb Cell 4\u001b[0m in \u001b[0;36m<cell line: 5>\u001b[1;34m()\u001b[0m\n\u001b[0;32m     <a href='vscode-notebook-cell:/c%3A/Users/jayde/Desktop/KAZE%20work/registry_cpe_formatter/main.ipynb#W4sZmlsZQ%3D%3D?line=12'>13</a>\u001b[0m     \u001b[39mcontinue\u001b[39;00m\n\u001b[0;32m     <a href='vscode-notebook-cell:/c%3A/Users/jayde/Desktop/KAZE%20work/registry_cpe_formatter/main.ipynb#W4sZmlsZQ%3D%3D?line=14'>15</a>\u001b[0m \u001b[39mfor\u001b[39;00m cpe \u001b[39min\u001b[39;00m cpe_list:         \n\u001b[1;32m---> <a href='vscode-notebook-cell:/c%3A/Users/jayde/Desktop/KAZE%20work/registry_cpe_formatter/main.ipynb#W4sZmlsZQ%3D%3D?line=15'>16</a>\u001b[0m     similarity_score \u001b[39m=\u001b[39m return_similarity(cpe[\u001b[39m1\u001b[39;49m],software\u001b[39m.\u001b[39;49mget(\u001b[39m\"\u001b[39;49m\u001b[39mVendor\u001b[39;49m\u001b[39m\"\u001b[39;49m),software\u001b[39m.\u001b[39;49mget(\u001b[39m\"\u001b[39;49m\u001b[39mName\u001b[39;49m\u001b[39m\"\u001b[39;49m),software\u001b[39m.\u001b[39;49mget(\u001b[39m\"\u001b[39;49m\u001b[39mVersion\u001b[39;49m\u001b[39m\"\u001b[39;49m))\n\u001b[0;32m     <a href='vscode-notebook-cell:/c%3A/Users/jayde/Desktop/KAZE%20work/registry_cpe_formatter/main.ipynb#W4sZmlsZQ%3D%3D?line=16'>17</a>\u001b[0m     importance_score \u001b[39m=\u001b[39m return_importance_weighted_similarity(cpe[\u001b[39m1\u001b[39m],software\u001b[39m.\u001b[39mget(\u001b[39m\"\u001b[39m\u001b[39mVendor\u001b[39m\u001b[39m\"\u001b[39m),software\u001b[39m.\u001b[39mget(\u001b[39m\"\u001b[39m\u001b[39mName\u001b[39m\u001b[39m\"\u001b[39m),vendor_importance,name_importance)\n\u001b[0;32m     <a href='vscode-notebook-cell:/c%3A/Users/jayde/Desktop/KAZE%20work/registry_cpe_formatter/main.ipynb#W4sZmlsZQ%3D%3D?line=18'>19</a>\u001b[0m     total_score \u001b[39m=\u001b[39m \u001b[39m1\u001b[39m \u001b[39m/\u001b[39m (\u001b[39m1\u001b[39m \u001b[39m+\u001b[39m math\u001b[39m.\u001b[39mexp(\u001b[39m-\u001b[39m(similarity_score \u001b[39m+\u001b[39m importance_score))) \u001b[39m#use sigmoid function to normalise between 0 and 1\u001b[39;00m\n",
      "File \u001b[1;32mc:\\Users\\jayde\\Desktop\\KAZE work\\registry_cpe_formatter\\cpe_similarity.py:38\u001b[0m, in \u001b[0;36mreturn_similarity\u001b[1;34m(cpe, software_vendor, software_name, software_version)\u001b[0m\n\u001b[0;32m     35\u001b[0m     score \u001b[39m+\u001b[39m\u001b[39m=\u001b[39m score_system[return_relationship(software_vendor,word)]\n\u001b[0;32m     37\u001b[0m     \u001b[39m#name to vendor relationship\u001b[39;00m\n\u001b[1;32m---> 38\u001b[0m     score \u001b[39m+\u001b[39m\u001b[39m=\u001b[39m score_system[return_relationship(software_name,word)] \u001b[39m*\u001b[39m \u001b[39m0.25\u001b[39m\n\u001b[0;32m     40\u001b[0m \u001b[39mfor\u001b[39;00m word \u001b[39min\u001b[39;00m cpe_name\u001b[39m.\u001b[39mreplace(\u001b[39m\"\u001b[39m\u001b[39m-\u001b[39m\u001b[39m\"\u001b[39m,\u001b[39m\"\u001b[39m\u001b[39m_\u001b[39m\u001b[39m\"\u001b[39m)\u001b[39m.\u001b[39msplit(\u001b[39m\"\u001b[39m\u001b[39m_\u001b[39m\u001b[39m\"\u001b[39m): \u001b[39m#checks if each word in the cpe name is in the software name or vendor\u001b[39;00m\n\u001b[0;32m     41\u001b[0m     \u001b[39m#name to name relationship\u001b[39;00m\n\u001b[0;32m     42\u001b[0m     score \u001b[39m+\u001b[39m\u001b[39m=\u001b[39m score_system[return_relationship(software_name,word)]\n",
      "\u001b[1;31mKeyboardInterrupt\u001b[0m: "
     ]
    }
   ],
   "source": [
    "all_matches = []\n",
    "\n",
    "random.shuffle(software_inventory)\n",
    "\n",
    "for software in software_inventory:\n",
    "    best_match = {\"CPE\":None,\"Similarity\":0}\n",
    "\n",
    "    if software.get(\"Vendor\") and software.get(\"Name\"):  \n",
    "        name_importance = return_importance_vector(software.get(\"Name\"))\n",
    "        vendor_importance = return_importance_vector(software.get(\"Vendor\"))\n",
    "\n",
    "    else:\n",
    "        continue\n",
    "\n",
    "    for cpe in cpe_list:         \n",
    "        similarity_score = return_similarity(cpe[1],software.get(\"Vendor\"),software.get(\"Name\"),software.get(\"Version\"))\n",
    "        importance_score = return_importance_weighted_similarity(cpe[1],software.get(\"Vendor\"),software.get(\"Name\"),vendor_importance,name_importance)\n",
    "\n",
    "        total_score = 1 / (1 + math.exp(-(similarity_score + importance_score))) #use sigmoid function to normalise between 0 and 1\n",
    "\n",
    "        if total_score > best_match[\"Similarity\"] and cpe[1][2] == \"a\" and cpe[1][10] in [\"windows\",\"*\"]:\n",
    "            best_match[\"CPE\"] = cpe[0]\n",
    "            best_match[\"Similarity\"] = total_score\n",
    "\n",
    "    all_matches.append({\"Software\":software,\"Best_match\":best_match})\n",
    "\n",
    "    if all_matches[-1][\"Best_match\"][\"Similarity\"] > 0.0: print(all_matches[-1])\n"
   ]
  }
 ],
 "metadata": {
  "kernelspec": {
   "display_name": "Python 3",
   "language": "python",
   "name": "python3"
  },
  "language_info": {
   "codemirror_mode": {
    "name": "ipython",
    "version": 3
   },
   "file_extension": ".py",
   "mimetype": "text/x-python",
   "name": "python",
   "nbconvert_exporter": "python",
   "pygments_lexer": "ipython3",
   "version": "3.9.7"
  },
  "orig_nbformat": 4,
  "vscode": {
   "interpreter": {
    "hash": "c1770a777f8a707a68323ad32b77ca7cbf6452a898f6348625ef54424c6744df"
   }
  }
 },
 "nbformat": 4,
 "nbformat_minor": 2
}
