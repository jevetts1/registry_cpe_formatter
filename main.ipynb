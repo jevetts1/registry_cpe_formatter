{
 "cells": [
  {
   "cell_type": "code",
   "execution_count": 1,
   "metadata": {},
   "outputs": [],
   "source": [
    "from cpe_dict_loader import *\n",
    "from registry_query import *\n",
    "from cpe_similarity import *"
   ]
  },
  {
   "cell_type": "code",
   "execution_count": 2,
   "metadata": {},
   "outputs": [],
   "source": [
    "software_inventory = get_installed_software()"
   ]
  },
  {
   "cell_type": "code",
   "execution_count": 3,
   "metadata": {},
   "outputs": [],
   "source": [
    "cpe_list = load_cpe_processed_json()"
   ]
  },
  {
   "cell_type": "code",
   "execution_count": 4,
   "metadata": {},
   "outputs": [],
   "source": [
    "test_set = [{\"Vendor\":\"Google Corporation LTD\",\"Name\":\"Chrome 0.1.38\",\"Version\":\"1.54345.123\"},\n",
    "            {\"Vendor\":\"Random Corp\",\"Name\":\"Discord Chat and Message 0.0.4\",\"Version\":\"0.5\"},\n",
    "            {\"Vendor\":\"Microsoft Corporation\",\"Name\":\"Microsoft Edge\",\"Version\":\"80.0\"},\n",
    "            {\"Vendor\":\"Spotify\",\"Name\":\"Spotify for Windows\",\"Version\":\"2\"},\n",
    "            {\"Vendor\":\"Python Software Foundation\",\"Name\":\"Python\",\"Version\":\"2\"}]"
   ]
  },
  {
   "cell_type": "code",
   "execution_count": 10,
   "metadata": {},
   "outputs": [
    {
     "name": "stdout",
     "output_type": "stream",
     "text": [
      "[{'CPE': 'cpe:2.3:a:gog:galaxy:1.2.0:*:*:*:*:windows:*:*', 'Similarity': 0.35434369377420455}, {'CPE': 'cpe:2.3:a:gog:galaxy:1.2.38:*:*:*:*:mac_os:*:*', 'Similarity': 0.35434369377420455}, {'CPE': 'cpe:2.3:a:gog:galaxy:1.2.38:*:*:*:*:mac_os_x:*:*', 'Similarity': 0.35434369377420455}, {'CPE': 'cpe:2.3:a:gog:galaxy:1.2.38:*:*:*:*:macos:*:*', 'Similarity': 0.35434369377420455}, {'CPE': 'cpe:2.3:a:gog:galaxy:1.2.39:*:*:*:*:mac_os:*:*', 'Similarity': 0.35434369377420455}]\n",
      "{'Software': {'Vendor': 'GOG.com', 'Name': 'SPORE™ Collection', 'Version': '2.0.0.5'}, 'Best_match': {'CPE': 'cpe:2.3:a:gog:galaxy:1.2.0:*:*:*:*:windows:*:*', 'Score': 0.8335224084014616}}\n",
      "[{'CPE': 'cpe:2.3:a:microsoft:visual_studio_2019:-:*:*:*:*:macos:*:*', 'Similarity': 0.9241418199787566}, {'CPE': 'cpe:2.3:a:microsoft:visual_studio_2019:8.0:*:*:*:*:macos:*:*', 'Similarity': 0.9241418199787566}, {'CPE': 'cpe:2.3:a:microsoft:visual_studio_2019:8.0.1:*:*:*:*:macos:*:*', 'Similarity': 0.9241418199787566}, {'CPE': 'cpe:2.3:a:microsoft:visual_studio_2019:8.0.2:*:*:*:*:macos:*:*', 'Similarity': 0.9241418199787566}, {'CPE': 'cpe:2.3:a:microsoft:visual_studio_2019:8.0.3:*:*:*:*:macos:*:*', 'Similarity': 0.9241418199787566}]\n",
      "{'Software': {'Vendor': 'Microsoft Corporation', 'Name': 'Visual Studio Community 2019', 'Version': '16.11.22'}, 'Best_match': {'CPE': 'cpe:2.3:a:microsoft:visual_studio_2019:-:*:*:*:*:macos:*:*', 'Score': 1.2097793904877006}}\n",
      "[{'CPE': 'cpe:2.3:a:microsoft:visual_studio_2022:17.0:*:*:*:*:*:*:*', 'Similarity': 0.9241418199787566}, {'CPE': 'cpe:2.3:a:microsoft:visual_studio_2022:17.0.0:*:*:*:*:*:*:*', 'Similarity': 0.9241418199787566}, {'CPE': 'cpe:2.3:a:microsoft:visual_studio_2022:17.0.1:*:*:*:*:*:*:*', 'Similarity': 0.9241418199787566}, {'CPE': 'cpe:2.3:a:microsoft:visual_studio_2022:17.0.2:*:*:*:*:*:*:*', 'Similarity': 0.9241418199787566}, {'CPE': 'cpe:2.3:a:microsoft:visual_studio_2022:17.0.3:*:*:*:*:*:*:*', 'Similarity': 0.9241418199787566}]\n",
      "{'Software': {'Vendor': 'Microsoft Corporation', 'Name': 'Visual Studio Build Tools 2022', 'Version': '17.4.3'}, 'Best_match': {'CPE': 'cpe:2.3:a:microsoft:visual_studio_2022:17.0:*:*:*:*:*:*:*', 'Score': 1.2097793904877006}}\n"
     ]
    },
    {
     "ename": "KeyboardInterrupt",
     "evalue": "",
     "output_type": "error",
     "traceback": [
      "\u001b[1;31m---------------------------------------------------------------------------\u001b[0m",
      "\u001b[1;31mKeyboardInterrupt\u001b[0m                         Traceback (most recent call last)",
      "\u001b[1;32mc:\\Users\\jayde\\Desktop\\KAZE work\\registry_cpe_formatter\\main.ipynb Cell 5\u001b[0m in \u001b[0;36m<cell line: 5>\u001b[1;34m()\u001b[0m\n\u001b[0;32m     <a href='vscode-notebook-cell:/c%3A/Users/jayde/Desktop/KAZE%20work/registry_cpe_formatter/main.ipynb#W4sZmlsZQ%3D%3D?line=9'>10</a>\u001b[0m \u001b[39mfor\u001b[39;00m cpe \u001b[39min\u001b[39;00m cpe_list:\n\u001b[0;32m     <a href='vscode-notebook-cell:/c%3A/Users/jayde/Desktop/KAZE%20work/registry_cpe_formatter/main.ipynb#W4sZmlsZQ%3D%3D?line=10'>11</a>\u001b[0m     \u001b[39mif\u001b[39;00m software\u001b[39m.\u001b[39mget(\u001b[39m\"\u001b[39m\u001b[39mVendor\u001b[39m\u001b[39m\"\u001b[39m) \u001b[39mand\u001b[39;00m software\u001b[39m.\u001b[39mget(\u001b[39m\"\u001b[39m\u001b[39mName\u001b[39m\u001b[39m\"\u001b[39m):          \n\u001b[1;32m---> <a href='vscode-notebook-cell:/c%3A/Users/jayde/Desktop/KAZE%20work/registry_cpe_formatter/main.ipynb#W4sZmlsZQ%3D%3D?line=11'>12</a>\u001b[0m         similarity_score \u001b[39m=\u001b[39m return_similarity(cpe[\u001b[39m1\u001b[39;49m],software\u001b[39m.\u001b[39;49mget(\u001b[39m\"\u001b[39;49m\u001b[39mVendor\u001b[39;49m\u001b[39m\"\u001b[39;49m),software\u001b[39m.\u001b[39;49mget(\u001b[39m\"\u001b[39;49m\u001b[39mName\u001b[39;49m\u001b[39m\"\u001b[39;49m))\n\u001b[0;32m     <a href='vscode-notebook-cell:/c%3A/Users/jayde/Desktop/KAZE%20work/registry_cpe_formatter/main.ipynb#W4sZmlsZQ%3D%3D?line=13'>14</a>\u001b[0m     \u001b[39melse\u001b[39;00m: \u001b[39mcontinue\u001b[39;00m\n\u001b[0;32m     <a href='vscode-notebook-cell:/c%3A/Users/jayde/Desktop/KAZE%20work/registry_cpe_formatter/main.ipynb#W4sZmlsZQ%3D%3D?line=15'>16</a>\u001b[0m     \u001b[39mif\u001b[39;00m \u001b[39mlen\u001b[39m(best_matches) \u001b[39m<\u001b[39m cached_matches \u001b[39mand\u001b[39;00m cpe[\u001b[39m1\u001b[39m][\u001b[39m2\u001b[39m] \u001b[39m==\u001b[39m \u001b[39m\"\u001b[39m\u001b[39ma\u001b[39m\u001b[39m\"\u001b[39m:\n",
      "File \u001b[1;32mc:\\Users\\jayde\\Desktop\\KAZE work\\registry_cpe_formatter\\cpe_similarity.py:31\u001b[0m, in \u001b[0;36mreturn_similarity\u001b[1;34m(cpe, software_vendor, software_name)\u001b[0m\n\u001b[0;32m     27\u001b[0m score_system \u001b[39m=\u001b[39m {\u001b[39m\"\u001b[39m\u001b[39mEQUAL\u001b[39m\u001b[39m\"\u001b[39m:\u001b[39m1\u001b[39m,\u001b[39m\"\u001b[39m\u001b[39mSUBWORD\u001b[39m\u001b[39m\"\u001b[39m:\u001b[39m0.75\u001b[39m,\u001b[39m\"\u001b[39m\u001b[39mSUBSTRING\u001b[39m\u001b[39m\"\u001b[39m:\u001b[39m0.15\u001b[39m,\u001b[39m\"\u001b[39m\u001b[39mNONE\u001b[39m\u001b[39m\"\u001b[39m:\u001b[39m-\u001b[39m\u001b[39m0.5\u001b[39m}\n\u001b[0;32m     29\u001b[0m \u001b[39mfor\u001b[39;00m word \u001b[39min\u001b[39;00m cpe_vendor\u001b[39m.\u001b[39mreplace(\u001b[39m\"\u001b[39m\u001b[39m-\u001b[39m\u001b[39m\"\u001b[39m,\u001b[39m\"\u001b[39m\u001b[39m_\u001b[39m\u001b[39m\"\u001b[39m)\u001b[39m.\u001b[39msplit(\u001b[39m\"\u001b[39m\u001b[39m_\u001b[39m\u001b[39m\"\u001b[39m): \u001b[39m#checks if each word in the cpe vendor is in the software name or vendor\u001b[39;00m\n\u001b[0;32m     30\u001b[0m     \u001b[39m#vendor to vendor relationship\u001b[39;00m\n\u001b[1;32m---> 31\u001b[0m     score \u001b[39m+\u001b[39m\u001b[39m=\u001b[39m score_system[return_relationship(software_vendor,word)]\n\u001b[0;32m     33\u001b[0m     \u001b[39m#name to vendor relationship\u001b[39;00m\n\u001b[0;32m     34\u001b[0m     score \u001b[39m+\u001b[39m\u001b[39m=\u001b[39m score_system[return_relationship(software_name,word)] \u001b[39m*\u001b[39m \u001b[39m0.25\u001b[39m\n",
      "File \u001b[1;32mc:\\Users\\jayde\\Desktop\\KAZE work\\registry_cpe_formatter\\cpe_similarity.py:8\u001b[0m, in \u001b[0;36mreturn_relationship\u001b[1;34m(string_super, string_sub)\u001b[0m\n\u001b[0;32m      5\u001b[0m \u001b[39mif\u001b[39;00m string_sub \u001b[39m==\u001b[39m string_super:\n\u001b[0;32m      6\u001b[0m     \u001b[39mreturn\u001b[39;00m \u001b[39m\"\u001b[39m\u001b[39mEQUAL\u001b[39m\u001b[39m\"\u001b[39m\n\u001b[1;32m----> 8\u001b[0m \u001b[39mfor\u001b[39;00m word \u001b[39min\u001b[39;00m string_super\u001b[39m.\u001b[39;49msplit():\n\u001b[0;32m      9\u001b[0m     \u001b[39mif\u001b[39;00m string_sub \u001b[39m==\u001b[39m word:\n\u001b[0;32m     10\u001b[0m         \u001b[39mreturn\u001b[39;00m \u001b[39m\"\u001b[39m\u001b[39mSUBWORD\u001b[39m\u001b[39m\"\u001b[39m\n",
      "\u001b[1;31mKeyboardInterrupt\u001b[0m: "
     ]
    }
   ],
   "source": [
    "all_matches = []\n",
    "\n",
    "cached_matches = 5\n",
    "\n",
    "for software in software_inventory:\n",
    "    best_matches = []\n",
    "    best_match = {\"CPE\":\"\",\"Score\":0}\n",
    "    lowest_score = 99999\n",
    "\n",
    "    for cpe in cpe_list:\n",
    "        if software.get(\"Vendor\") and software.get(\"Name\"):          \n",
    "            similarity_score = return_similarity(cpe[1],software.get(\"Vendor\"),software.get(\"Name\"))\n",
    "        \n",
    "        else: continue\n",
    "\n",
    "        if len(best_matches) < cached_matches and cpe[1][2] == \"a\":\n",
    "            if similarity_score < lowest_score:\n",
    "                lowest_score = similarity_score\n",
    "\n",
    "            best_matches.append({\"CPE\":cpe[0],\"Similarity\":similarity_score})\n",
    "\n",
    "        elif similarity_score > lowest_score and cpe[1][2] == \"a\":\n",
    "            lowest_score = min(best_matches,key = lambda x:x[\"Similarity\"])[\"Similarity\"]\n",
    "\n",
    "            best_matches = best_matches[1:]\n",
    "            best_matches.append({\"CPE\":cpe[0],\"Similarity\":similarity_score})\n",
    "\n",
    "        if len(best_matches) >= cached_matches:\n",
    "            best_matches = sorted(best_matches,key = lambda x:x[\"Similarity\"])\n",
    "\n",
    "    for match in best_matches:\n",
    "        score = match[\"Similarity\"] + return_version_similarity(cpe[1],software.get(\"Name\"),software.get(\"Version\"))\n",
    "\n",
    "        if score > best_match[\"Score\"]:\n",
    "            best_match[\"CPE\"] = match[\"CPE\"]\n",
    "            best_match[\"Score\"] = score\n",
    "\n",
    "    all_matches.append({\"Software\":software,\"Best_match\":best_match})\n",
    "\n",
    "    print(all_matches[-1])\n"
   ]
  }
 ],
 "metadata": {
  "kernelspec": {
   "display_name": "Python 3",
   "language": "python",
   "name": "python3"
  },
  "language_info": {
   "codemirror_mode": {
    "name": "ipython",
    "version": 3
   },
   "file_extension": ".py",
   "mimetype": "text/x-python",
   "name": "python",
   "nbconvert_exporter": "python",
   "pygments_lexer": "ipython3",
   "version": "3.9.7"
  },
  "orig_nbformat": 4,
  "vscode": {
   "interpreter": {
    "hash": "c1770a777f8a707a68323ad32b77ca7cbf6452a898f6348625ef54424c6744df"
   }
  }
 },
 "nbformat": 4,
 "nbformat_minor": 2
}
