{
 "cells": [
  {
   "cell_type": "code",
   "execution_count": 1,
   "metadata": {},
   "outputs": [],
   "source": [
    "from cpe_dict_loader import *\n",
    "from registry_query import *\n",
    "from cpe_similarity import *\n",
    "from ml_importance import *"
   ]
  },
  {
   "cell_type": "code",
   "execution_count": 2,
   "metadata": {},
   "outputs": [],
   "source": [
    "software_inventory = get_installed_software()\n",
    "cpe_list = load_cpe_processed_json()"
   ]
  },
  {
   "cell_type": "code",
   "execution_count": 3,
   "metadata": {},
   "outputs": [],
   "source": [
    "test_set = [{\"Vendor\":\"Google Corporation LTD\",\"Name\":\"Chrome 0.1.38\",\"Version\":\"1.54345.123\"},\n",
    "            {\"Vendor\":\"Random Corp\",\"Name\":\"Discord Chat and Message 0.0.4\",\"Version\":\"0.5\"},\n",
    "            {\"Vendor\":\"Microsoft Corporation\",\"Name\":\"Microsoft Edge\",\"Version\":\"80.0\"},\n",
    "            {\"Vendor\":\"Spotify\",\"Name\":\"Spotify for Windows\",\"Version\":\"2\"},\n",
    "            {\"Vendor\":\"Python Software Foundation\",\"Name\":\"Python 2.7 (x64) Binary\",\"Version\":\"2\"}]"
   ]
  },
  {
   "cell_type": "code",
   "execution_count": 6,
   "metadata": {},
   "outputs": [
    {
     "name": "stdout",
     "output_type": "stream",
     "text": [
      "{'Software': {'Vendor': 'Unity Technologies Inc.', 'Name': 'Unity Hub 2.4.4', 'Version': '2.4.4'}, 'Best_match': {'CPE': 'cpe:2.3:a:unity:web_player:5.4.4:*:*:*:*:*:*:*', 'Similarity': 0.8996917403663692}}\n",
      "{'Software': {'Vendor': 'Microsoft Corporation', 'Name': 'Microsoft.NET.Sdk.MacCatalyst.Manifest-6.0.300', 'Version': '125.191.42208'}, 'Best_match': {'CPE': 'cpe:2.3:a:microsoft:.net:6.0.0:-:*:*:*:*:*:*', 'Similarity': 0.8582185148842105}}\n",
      "{'Software': {'Vendor': 'Microsoft Corporation', 'Name': 'Microsoft.NET.Sdk.Android.Manifest-7.0.100 (x64)', 'Version': '33.0.4'}, 'Best_match': {'CPE': 'cpe:2.3:a:microsoft:identitymodel:7.0.0:*:*:*:*:*:*:*', 'Similarity': 0.8425493245789443}}\n",
      "{'Software': {'Vendor': 'Microsoft Corporation', 'Name': 'Microsoft Visual Studio 2010 Tools for Office Runtime (x64)', 'Version': '10.0.60830'}, 'Best_match': {'CPE': 'cpe:2.3:a:microsoft:visual_studio:2010:*:*:*:*:*:*:*', 'Similarity': 0.9495202547542549}}\n",
      "{'Software': {'Vendor': 'Microsoft Corporation', 'Name': 'Microsoft .NET Runtime - 7.0.1 (x64)', 'Version': '56.7.51940'}, 'Best_match': {'CPE': 'cpe:2.3:a:microsoft:.net:5.0.1:*:*:*:*:*:*:*', 'Similarity': 0.9887698038702734}}\n"
     ]
    },
    {
     "ename": "KeyboardInterrupt",
     "evalue": "",
     "output_type": "error",
     "traceback": [
      "\u001b[1;31m---------------------------------------------------------------------------\u001b[0m",
      "\u001b[1;31mKeyboardInterrupt\u001b[0m                         Traceback (most recent call last)",
      "\u001b[1;32mc:\\Users\\jayde\\Desktop\\KAZE work\\registry_cpe_formatter\\main.ipynb Cell 4\u001b[0m in \u001b[0;36m<cell line: 3>\u001b[1;34m()\u001b[0m\n\u001b[0;32m     <a href='vscode-notebook-cell:/c%3A/Users/jayde/Desktop/KAZE%20work/registry_cpe_formatter/main.ipynb#W4sZmlsZQ%3D%3D?line=10'>11</a>\u001b[0m     \u001b[39mcontinue\u001b[39;00m\n\u001b[0;32m     <a href='vscode-notebook-cell:/c%3A/Users/jayde/Desktop/KAZE%20work/registry_cpe_formatter/main.ipynb#W4sZmlsZQ%3D%3D?line=12'>13</a>\u001b[0m \u001b[39mfor\u001b[39;00m cpe \u001b[39min\u001b[39;00m cpe_list:         \n\u001b[1;32m---> <a href='vscode-notebook-cell:/c%3A/Users/jayde/Desktop/KAZE%20work/registry_cpe_formatter/main.ipynb#W4sZmlsZQ%3D%3D?line=13'>14</a>\u001b[0m     similarity_score \u001b[39m=\u001b[39m return_similarity(cpe[\u001b[39m1\u001b[39;49m],software\u001b[39m.\u001b[39;49mget(\u001b[39m\"\u001b[39;49m\u001b[39mVendor\u001b[39;49m\u001b[39m\"\u001b[39;49m),software\u001b[39m.\u001b[39;49mget(\u001b[39m\"\u001b[39;49m\u001b[39mName\u001b[39;49m\u001b[39m\"\u001b[39;49m),software\u001b[39m.\u001b[39;49mget(\u001b[39m\"\u001b[39;49m\u001b[39mVersion\u001b[39;49m\u001b[39m\"\u001b[39;49m))\n\u001b[0;32m     <a href='vscode-notebook-cell:/c%3A/Users/jayde/Desktop/KAZE%20work/registry_cpe_formatter/main.ipynb#W4sZmlsZQ%3D%3D?line=14'>15</a>\u001b[0m     importance_score \u001b[39m=\u001b[39m return_importance_weighted_similarity(cpe[\u001b[39m1\u001b[39m],software\u001b[39m.\u001b[39mget(\u001b[39m\"\u001b[39m\u001b[39mVendor\u001b[39m\u001b[39m\"\u001b[39m),software\u001b[39m.\u001b[39mget(\u001b[39m\"\u001b[39m\u001b[39mName\u001b[39m\u001b[39m\"\u001b[39m),vendor_importance,name_importance)\n\u001b[0;32m     <a href='vscode-notebook-cell:/c%3A/Users/jayde/Desktop/KAZE%20work/registry_cpe_formatter/main.ipynb#W4sZmlsZQ%3D%3D?line=16'>17</a>\u001b[0m     total_score \u001b[39m=\u001b[39m \u001b[39m1\u001b[39m \u001b[39m/\u001b[39m (\u001b[39m1\u001b[39m \u001b[39m+\u001b[39m math\u001b[39m.\u001b[39mexp(\u001b[39m-\u001b[39m(similarity_score \u001b[39m+\u001b[39m importance_score))) \u001b[39m#use sigmoid function to normalise between 0 and 1\u001b[39;00m\n",
      "File \u001b[1;32mc:\\Users\\jayde\\Desktop\\KAZE work\\registry_cpe_formatter\\cpe_similarity.py:74\u001b[0m, in \u001b[0;36mreturn_similarity\u001b[1;34m(cpe, software_vendor, software_name, software_version)\u001b[0m\n\u001b[0;32m     71\u001b[0m             current_score \u001b[39m+\u001b[39m\u001b[39m=\u001b[39m \u001b[39m0.5\u001b[39m \u001b[39m/\u001b[39m (i \u001b[39m+\u001b[39m \u001b[39m1\u001b[39m)\n\u001b[0;32m     73\u001b[0m         \u001b[39melse\u001b[39;00m:\n\u001b[1;32m---> 74\u001b[0m             current_score \u001b[39m-\u001b[39m\u001b[39m=\u001b[39m \u001b[39m0.5\u001b[39m \u001b[39m/\u001b[39m (i \u001b[39m+\u001b[39m \u001b[39m1\u001b[39m)\n\u001b[0;32m     76\u001b[0m \u001b[39melse\u001b[39;00m:\n\u001b[0;32m     77\u001b[0m     \u001b[39mfor\u001b[39;00m i,number \u001b[39min\u001b[39;00m \u001b[39menumerate\u001b[39m(cpe_version_split):\n",
      "\u001b[1;31mKeyboardInterrupt\u001b[0m: "
     ]
    }
   ],
   "source": [
    "all_matches = []\n",
    "\n",
    "for software in software_inventory[::-1]:\n",
    "    best_match = {\"CPE\":None,\"Similarity\":0}\n",
    "\n",
    "    if software.get(\"Vendor\") and software.get(\"Name\"):  \n",
    "        name_importance = return_importance_vector(software.get(\"Name\"))\n",
    "        vendor_importance = return_importance_vector(software.get(\"Vendor\"))\n",
    "\n",
    "    else:\n",
    "        continue\n",
    "\n",
    "    for cpe in cpe_list:         \n",
    "        similarity_score = return_similarity(cpe[1],software.get(\"Vendor\"),software.get(\"Name\"),software.get(\"Version\"))\n",
    "        importance_score = return_importance_weighted_similarity(cpe[1],software.get(\"Vendor\"),software.get(\"Name\"),vendor_importance,name_importance)\n",
    "\n",
    "        total_score = 1 / (1 + math.exp(-(similarity_score + importance_score))) #use sigmoid function to normalise between 0 and 1\n",
    "\n",
    "        if total_score > best_match[\"Similarity\"] and cpe[1][2] == \"a\" and cpe[1][10] in [\"windows\",\"*\"]:\n",
    "            best_match[\"CPE\"] = cpe[0]\n",
    "            best_match[\"Similarity\"] = total_score\n",
    "\n",
    "    all_matches.append({\"Software\":software,\"Best_match\":best_match})\n",
    "\n",
    "    print(all_matches[-1])\n"
   ]
  }
 ],
 "metadata": {
  "kernelspec": {
   "display_name": "Python 3",
   "language": "python",
   "name": "python3"
  },
  "language_info": {
   "codemirror_mode": {
    "name": "ipython",
    "version": 3
   },
   "file_extension": ".py",
   "mimetype": "text/x-python",
   "name": "python",
   "nbconvert_exporter": "python",
   "pygments_lexer": "ipython3",
   "version": "3.9.7"
  },
  "orig_nbformat": 4,
  "vscode": {
   "interpreter": {
    "hash": "c1770a777f8a707a68323ad32b77ca7cbf6452a898f6348625ef54424c6744df"
   }
  }
 },
 "nbformat": 4,
 "nbformat_minor": 2
}
