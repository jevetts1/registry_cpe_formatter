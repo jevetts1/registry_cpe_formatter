{
 "cells": [
  {
   "cell_type": "code",
   "execution_count": 1,
   "metadata": {},
   "outputs": [],
   "source": [
    "from cpe_dict_loader import *\n",
    "from registry_query import *\n",
    "from cpe_similarity import *"
   ]
  },
  {
   "cell_type": "code",
   "execution_count": 2,
   "metadata": {},
   "outputs": [],
   "source": [
    "software_inventory = get_installed_software()"
   ]
  },
  {
   "cell_type": "code",
   "execution_count": 3,
   "metadata": {},
   "outputs": [],
   "source": [
    "cpe_list = load_cpe_txt()"
   ]
  },
  {
   "cell_type": "code",
   "execution_count": 4,
   "metadata": {},
   "outputs": [],
   "source": [
    "test_set = [{\"Vendor\":\"Google Corporation LTD\",\"Name\":\"Chrome 0.1.38\",\"Version\":\"1.54345.123\"},\n",
    "            {\"Vendor\":\"Random Corp\",\"Name\":\"Discord Chat and Message 0.0.4\",\"Version\":\"0.5\"},\n",
    "            {\"Vendor\":\"Microsoft Corporation\",\"Name\":\"Microsoft Edge\",\"Version\":\"80.0\"},\n",
    "            {\"Vendor\":\"Spotify\",\"Name\":\"Spotify for Windows\",\"Version\":\"2\"}]"
   ]
  },
  {
   "cell_type": "code",
   "execution_count": 5,
   "metadata": {},
   "outputs": [
    {
     "name": "stdout",
     "output_type": "stream",
     "text": [
      "{'Software': {'Vendor': 'Advanced Micro Devices, Inc.', 'Name': 'AMD Software', 'Version': '22.9.1'}, 'Best_match': {'CPE': 'cpe:/a:r-project:r:3.0.1', 'Similarity': 0.28836597831418703}}\n",
      "{'Software': {}, 'Best_match': {'CPE': None, 'Similarity': 0}}\n",
      "{'Software': {'Vendor': 'Disc Soft Ltd', 'Name': 'DAEMON Tools Ultra', 'Version': '6.1.0.1753'}, 'Best_match': {'CPE': 'cpe:/a:disc-soft:daemon_tools:8.3.0.0767::~~pro~~~', 'Similarity': 0.7486954358669178}}\n",
      "{'Software': {'Vendor': 'Easeware', 'Name': 'Driver Easy 5.6.14', 'Version': '5.6.14'}, 'Best_match': {'CPE': 'cpe:/a:elastic:elasticsearch:5.6.14', 'Similarity': 0.33551774365212944}}\n",
      "{'Software': {'Vendor': 'DREVO Inc.', 'Name': 'Tyrfing V2 Gaming Keyboard 2.0.4.0', 'Version': '2.0.4.0'}, 'Best_match': {'CPE': 'cpe:/a:apple:bonjour:2.0.4.0', 'Similarity': 0.3639331818575068}}\n",
      "{'Software': {'Vendor': 'Samsung Electronics', 'Name': 'Galaxy Watch Designer 1.8.0', 'Version': '1.8.0'}, 'Best_match': {'CPE': 'cpe:/a:samsung:samsung_members:1.8.09', 'Similarity': 0.5457053875844059}}\n",
      "{'Software': {'Vendor': 'The Git Development Community', 'Name': 'Git', 'Version': '2.36.1'}, 'Best_match': {'CPE': 'cpe:/a:git:git:2.0.1', 'Similarity': 0.9614566785472153}}\n",
      "{'Software': {'Vendor': 'Logitech Inc.', 'Name': 'Logitech Gaming Software 9.02', 'Version': '9.02.65'}, 'Best_match': {'CPE': 'cpe:/a:logitech:game_software:9.02.61', 'Similarity': 0.8074201564513485}}\n",
      "{'Software': {'Vendor': 'Microsoft Corporation', 'Name': 'Microsoft 365 Apps for enterprise - en-us', 'Version': '16.0.16026.20146'}, 'Best_match': {'CPE': 'cpe:/a:microsoft:365_apps:-', 'Similarity': 0.8320183851339245}}\n",
      "{'Software': {'Name': 'Prio', 'Version': '2.1.0.4391'}, 'Best_match': {'CPE': None, 'Similarity': 0}}\n",
      "{'Software': {'Vendor': 'Re-Logic', 'Name': 'Terraria', 'Version': ''}, 'Best_match': {'CPE': 'cpe:/a:re-logic:terraria:1.0', 'Similarity': 0.35434369377420455}}\n",
      "{'Software': {'Vendor': 'keron veal', 'Name': 'Fishy', 'Version': ''}, 'Best_match': {'CPE': 'cpe:/a:cimg:cimg:.220', 'Similarity': 0.16798161486607552}}\n",
      "{'Software': {'Vendor': 'TML Team', 'Name': 'tModLoader', 'Version': ''}, 'Best_match': {'CPE': 'cpe:/a:wpwax:team:-::~~~wordpress~~', 'Similarity': 0.20587037180094733}}\n",
      "{'Software': {'Vendor': 'Dani', 'Name': 'Crab Game', 'Version': ''}, 'Best_match': {'CPE': 'cpe:/a:ni:diadem:-', 'Similarity': 0.19000156601531298}}\n",
      "{'Software': {'Vendor': 'Meta Fork', 'Name': 'FPS Chess', 'Version': ''}, 'Best_match': {'CPE': 'cpe:/a:gnu:chess:-', 'Similarity': 0.29943285752602705}}\n",
      "{'Software': {'Vendor': 'Red Barrels', 'Name': 'Outlast', 'Version': ''}, 'Best_match': {'CPE': 'cpe:/a:cimg:cimg:.220', 'Similarity': 0.16798161486607552}}\n",
      "{'Software': {'Vendor': 'The Behemoth', 'Name': 'BattleBlock Theater', 'Version': ''}, 'Best_match': {'CPE': 'cpe:/a:ritlabs:the_bat:-', 'Similarity': 0.29943285752602705}}\n",
      "{'Software': {'Vendor': 'Nabi Studios', 'Name': 'Toribash', 'Version': ''}, 'Best_match': {'CPE': 'cpe:/a:gnu:bash:-', 'Similarity': 0.19000156601531298}}\n",
      "{'Software': {'Vendor': 'Psyonix LLC', 'Name': 'Rocket League', 'Version': ''}, 'Best_match': {'CPE': 'cpe:/a:psyonix:rocket_league:-', 'Similarity': 0.7005671424739729}}\n",
      "{'Software': {'Vendor': 'Klei Entertainment', 'Name': \"Don't Starve Together\", 'Version': ''}, 'Best_match': {'CPE': 'cpe:/a:gnu:tar:-', 'Similarity': 0.19000156601531298}}\n",
      "{'Software': {'Vendor': 'Fishing Planet LLC', 'Name': 'Fishing Planet', 'Version': ''}, 'Best_match': {'CPE': 'cpe:/a:plugin-planet:prismatic:-::~~~wordpress~~', 'Similarity': 0.289050497374996}}\n",
      "{'Software': {'Vendor': 'gord10', 'Name': 'Clown House (Palyaço Evi)', 'Version': ''}, 'Best_match': {'CPE': 'cpe:/a:cimg:cimg:.220', 'Similarity': 0.16798161486607552}}\n",
      "{'Software': {'Vendor': 'Novalink', 'Name': 'WARMODE', 'Version': ''}, 'Best_match': {'CPE': 'cpe:/a:cimg:cimg:.220', 'Similarity': 0.16798161486607552}}\n",
      "{'Software': {'Vendor': 'Valve', 'Name': 'Portal', 'Version': ''}, 'Best_match': {'CPE': 'cpe:/a:butor:portal:-', 'Similarity': 0.35434369377420455}}\n",
      "{'Software': {'Vendor': 'Facepunch Studios', 'Name': \"Garry's Mod\", 'Version': ''}, 'Best_match': {'CPE': 'cpe:/a:st:stm32cubef0:-', 'Similarity': 0.19000156601531298}}\n",
      "{'Software': {'Vendor': 'Automaton', 'Name': 'Deceit', 'Version': ''}, 'Best_match': {'CPE': 'cpe:/a:cimg:cimg:.220', 'Similarity': 0.16798161486607552}}\n",
      "{'Software': {'Vendor': 'Stanislaw Truchowski', 'Name': 'Minds Eyes', 'Version': ''}, 'Best_match': {'CPE': 'cpe:/a:ni:diadem:-', 'Similarity': 0.19000156601531298}}\n",
      "{'Software': {'Vendor': 'HFM Games', 'Name': 'Cockroach Simulator', 'Version': ''}, 'Best_match': {'CPE': 'cpe:/a:h_project:h:1.0', 'Similarity': 0.21081829347774714}}\n",
      "{'Software': {'Vendor': 'Valve', 'Name': 'Portal 2', 'Version': ''}, 'Best_match': {'CPE': 'cpe:/a:valve:dota_2:2020-02-17', 'Similarity': 0.46257015465625034}}\n",
      "{'Software': {'Vendor': 'Team17 Digital Ltd', 'Name': 'The Escapists 2', 'Version': ''}, 'Best_match': {'CPE': 'cpe:/a:st:bluenrg-2:-', 'Similarity': 0.22097389222018782}}\n",
      "{'Software': {'Vendor': 'HFM Games', 'Name': 'Fly Simulator', 'Version': ''}, 'Best_match': {'CPE': 'cpe:/a:es:iperf3:3', 'Similarity': 0.19000156601531298}}\n",
      "{'Software': {'Vendor': 'HFM Games', 'Name': 'Hand Simulator', 'Version': ''}, 'Best_match': {'CPE': 'cpe:/a:h_project:h:1.0', 'Similarity': 0.21081829347774714}}\n",
      "{'Software': {'Vendor': 'Kinetic Games', 'Name': 'Phasmophobia', 'Version': ''}, 'Best_match': {'CPE': 'cpe:/a:es:iperf3:3', 'Similarity': 0.19000156601531298}}\n",
      "{'Software': {'Vendor': 'id Software', 'Name': 'DOOM Eternal', 'Version': ''}, 'Best_match': {'CPE': 'cpe:/a:id:id-software:3.7', 'Similarity': 0.34298953732650117}}\n",
      "{'Software': {'Vendor': 'Titan Studio', 'Name': 'CreativeDestruction', 'Version': ''}, 'Best_match': {'CPE': 'cpe:/a:st:stm32cubef0:-', 'Similarity': 0.2573094546973142}}\n",
      "{'Software': {'Vendor': 'HFM Games', 'Name': 'Hand Simulator: Survival', 'Version': ''}, 'Best_match': {'CPE': 'cpe:/a:h_project:h:1.0', 'Similarity': 0.21081829347774714}}\n",
      "{'Software': {'Vendor': 'Innersloth', 'Name': 'Among Us', 'Version': ''}, 'Best_match': {'CPE': 'cpe:/a:cimg:cimg:.220', 'Similarity': 0.16798161486607552}}\n",
      "{'Software': {'Vendor': 'Phantom8 Studio', 'Name': 'Marble Combat', 'Version': ''}, 'Best_match': {'CPE': 'cpe:/a:nvidia:studio:-', 'Similarity': 0.20587037180094733}}\n",
      "{'Software': {'Vendor': 'cornthea', 'Name': 'HORSE', 'Version': ''}, 'Best_match': {'CPE': 'cpe:/a:h_project:h:1.0', 'Similarity': 0.21081829347774714}}\n",
      "{'Software': {'Name': 'STL Ignite - Emissary Plug-In Bundle', 'Version': '2.0.2'}, 'Best_match': {'CPE': None, 'Similarity': 0}}\n",
      "{'Software': {'Vendor': 'Sublime HQ Pty Ltd', 'Name': 'Sublime Text', 'Version': ''}, 'Best_match': {'CPE': 'cpe:/a:sublimetext:sublime_text_3:-', 'Similarity': 0.389360766050778}}\n",
      "{'Software': {'Name': 'TAP-Windows 9.21.2', 'Version': '9.21.2'}, 'Best_match': {'CPE': None, 'Similarity': 0}}\n",
      "{'Software': {'Vendor': 'Unity Technologies Inc.', 'Name': 'Unity Hub 2.2.2', 'Version': '2.2.2'}, 'Best_match': {'CPE': 'cpe:/a:jetbrains:hub:2.0.182', 'Similarity': 0.43372560580456077}}\n",
      "{'Software': {}, 'Best_match': {'CPE': None, 'Similarity': 0}}\n",
      "{'Software': {'Vendor': 'win.rar GmbH', 'Name': 'WinRAR 5.70 (64-bit)', 'Version': '5.70.0'}, 'Best_match': {'CPE': 'cpe:/a:rarlab:winrar:5.70:beta1', 'Similarity': 0.598687660112452}}\n",
      "{'Software': {'Vendor': 'Microsoft Corporation', 'Name': 'Microsoft.NET.Workload.Mono.Toolchain.net7.Manifest (x64)', 'Version': '56.3.51940'}, 'Best_match': {'CPE': 'cpe:/a:microsoft:.net:3.5.1', 'Similarity': 0.44357471055058983}}\n",
      "{'Software': {'Vendor': 'Microsoft Corporation', 'Name': 'Microsoft Visual C++ 2013 x64 Additional Runtime - 12.0.40664', 'Version': '12.0.40664'}, 'Best_match': {'CPE': 'cpe:/a:microsoft:visual_c:-', 'Similarity': 0.8005922431513315}}\n",
      "{'Software': {'Vendor': 'Microsoft Corporation', 'Name': 'Microsoft Windows Desktop Targeting Pack - 6.0.12 (x64)', 'Version': '48.51.52100'}, 'Best_match': {'CPE': 'cpe:/a:microsoft:.net:6.0.0:-', 'Similarity': 0.7277691215993669}}\n"
     ]
    },
    {
     "ename": "KeyboardInterrupt",
     "evalue": "",
     "output_type": "error",
     "traceback": [
      "\u001b[1;31m---------------------------------------------------------------------------\u001b[0m",
      "\u001b[1;31mKeyboardInterrupt\u001b[0m                         Traceback (most recent call last)",
      "\u001b[1;32mc:\\Users\\jayde\\Desktop\\KAZE work\\registry_cpe_formatter\\main.ipynb Cell 5\u001b[0m in \u001b[0;36m<cell line: 3>\u001b[1;34m()\u001b[0m\n\u001b[0;32m      <a href='vscode-notebook-cell:/c%3A/Users/jayde/Desktop/KAZE%20work/registry_cpe_formatter/main.ipynb#W4sZmlsZQ%3D%3D?line=7'>8</a>\u001b[0m     \u001b[39mif\u001b[39;00m \u001b[39mnot\u001b[39;00m software\u001b[39m.\u001b[39mget(\u001b[39m\"\u001b[39m\u001b[39mVersion\u001b[39m\u001b[39m\"\u001b[39m):\n\u001b[0;32m      <a href='vscode-notebook-cell:/c%3A/Users/jayde/Desktop/KAZE%20work/registry_cpe_formatter/main.ipynb#W4sZmlsZQ%3D%3D?line=8'>9</a>\u001b[0m         software[\u001b[39m\"\u001b[39m\u001b[39mVersion\u001b[39m\u001b[39m\"\u001b[39m] \u001b[39m=\u001b[39m \u001b[39m\"\u001b[39m\u001b[39m\"\u001b[39m\n\u001b[1;32m---> <a href='vscode-notebook-cell:/c%3A/Users/jayde/Desktop/KAZE%20work/registry_cpe_formatter/main.ipynb#W4sZmlsZQ%3D%3D?line=10'>11</a>\u001b[0m     similarity_score \u001b[39m=\u001b[39m return_similarity(cpe,software\u001b[39m.\u001b[39;49mget(\u001b[39m\"\u001b[39;49m\u001b[39mVendor\u001b[39;49m\u001b[39m\"\u001b[39;49m),software\u001b[39m.\u001b[39;49mget(\u001b[39m\"\u001b[39;49m\u001b[39mName\u001b[39;49m\u001b[39m\"\u001b[39;49m),software\u001b[39m.\u001b[39;49mget(\u001b[39m\"\u001b[39;49m\u001b[39mVersion\u001b[39;49m\u001b[39m\"\u001b[39;49m))\n\u001b[0;32m     <a href='vscode-notebook-cell:/c%3A/Users/jayde/Desktop/KAZE%20work/registry_cpe_formatter/main.ipynb#W4sZmlsZQ%3D%3D?line=12'>13</a>\u001b[0m \u001b[39melse\u001b[39;00m: \u001b[39mcontinue\u001b[39;00m\n\u001b[0;32m     <a href='vscode-notebook-cell:/c%3A/Users/jayde/Desktop/KAZE%20work/registry_cpe_formatter/main.ipynb#W4sZmlsZQ%3D%3D?line=14'>15</a>\u001b[0m \u001b[39mif\u001b[39;00m similarity_score \u001b[39m>\u001b[39m best_match[\u001b[39m\"\u001b[39m\u001b[39mSimilarity\u001b[39m\u001b[39m\"\u001b[39m] \u001b[39mand\u001b[39;00m \u001b[39m\"\u001b[39m\u001b[39ma\u001b[39m\u001b[39m\"\u001b[39m \u001b[39min\u001b[39;00m cpe\u001b[39m.\u001b[39msplit(\u001b[39m\"\u001b[39m\u001b[39m:\u001b[39m\u001b[39m\"\u001b[39m)[\u001b[39m1\u001b[39m]:\n",
      "File \u001b[1;32mc:\\Users\\jayde\\Desktop\\KAZE work\\registry_cpe_formatter\\cpe_similarity.py:46\u001b[0m, in \u001b[0;36mreturn_similarity\u001b[1;34m(cpe, software_vendor, software_name, software_version)\u001b[0m\n\u001b[0;32m     42\u001b[0m     score \u001b[39m+\u001b[39m\u001b[39m=\u001b[39m score_system[return_relationship(software_vendor,word)] \u001b[39m*\u001b[39m \u001b[39m0.6\u001b[39m\n\u001b[0;32m     44\u001b[0m versions \u001b[39m=\u001b[39m [software_version]\n\u001b[1;32m---> 46\u001b[0m version_in_name \u001b[39m=\u001b[39m re\u001b[39m.\u001b[39;49msearch(\u001b[39mr\u001b[39;49m\u001b[39m\"\u001b[39;49m\u001b[39m([0-9]+.)+[0-9]+\u001b[39;49m\u001b[39m\"\u001b[39;49m,software_name) \u001b[39m#checks if a version number is included in the name - often more accurate than what is stored on the registry\u001b[39;00m\n\u001b[0;32m     48\u001b[0m \u001b[39mif\u001b[39;00m version_in_name:\n\u001b[0;32m     49\u001b[0m     version_in_name \u001b[39m=\u001b[39m software_name[version_in_name\u001b[39m.\u001b[39mspan()[\u001b[39m0\u001b[39m]:version_in_name\u001b[39m.\u001b[39mspan()[\u001b[39m1\u001b[39m]]\n",
      "\u001b[1;31mKeyboardInterrupt\u001b[0m: "
     ]
    }
   ],
   "source": [
    "all_matches = []\n",
    "\n",
    "for software in software_inventory:\n",
    "    best_match = {\"CPE\":None,\"Similarity\":0}\n",
    "\n",
    "    for cpe in cpe_list:\n",
    "        if software.get(\"Vendor\") and software.get(\"Name\"):\n",
    "            if not software.get(\"Version\"):\n",
    "                software[\"Version\"] = \"\"\n",
    "                \n",
    "            similarity_score = return_similarity(cpe,software.get(\"Vendor\"),software.get(\"Name\"),software.get(\"Version\"))\n",
    "        \n",
    "        else: continue\n",
    "\n",
    "        if similarity_score > best_match[\"Similarity\"] and \"a\" in cpe.split(\":\")[1]:\n",
    "            best_match[\"CPE\"] = cpe\n",
    "            best_match[\"Similarity\"] = similarity_score\n",
    "\n",
    "    all_matches.append({\"Software\":software,\"Best_match\":best_match})\n",
    "\n",
    "    print(all_matches[-1])\n"
   ]
  }
 ],
 "metadata": {
  "kernelspec": {
   "display_name": "Python 3",
   "language": "python",
   "name": "python3"
  },
  "language_info": {
   "codemirror_mode": {
    "name": "ipython",
    "version": 3
   },
   "file_extension": ".py",
   "mimetype": "text/x-python",
   "name": "python",
   "nbconvert_exporter": "python",
   "pygments_lexer": "ipython3",
   "version": "3.9.7"
  },
  "orig_nbformat": 4,
  "vscode": {
   "interpreter": {
    "hash": "c1770a777f8a707a68323ad32b77ca7cbf6452a898f6348625ef54424c6744df"
   }
  }
 },
 "nbformat": 4,
 "nbformat_minor": 2
}
