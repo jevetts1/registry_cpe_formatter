{
 "cells": [
  {
   "cell_type": "code",
   "execution_count": null,
   "metadata": {},
   "outputs": [],
   "source": [
    "from cpe_dict_loader import *\n",
    "from registry_query import *\n",
    "from cpe_similarity import *"
   ]
  },
  {
   "cell_type": "code",
   "execution_count": null,
   "metadata": {},
   "outputs": [],
   "source": [
    "software_inventory = get_installed_software()"
   ]
  },
  {
   "cell_type": "code",
   "execution_count": null,
   "metadata": {},
   "outputs": [],
   "source": [
    "create_cpe_txt()"
   ]
  },
  {
   "cell_type": "code",
   "execution_count": null,
   "metadata": {},
   "outputs": [],
   "source": [
    "cpe_list = load_cpe_txt()"
   ]
  },
  {
   "cell_type": "code",
   "execution_count": null,
   "metadata": {},
   "outputs": [],
   "source": [
    "test_set = [{\"Vendor\":\"Google Corporation LTD\",\"Name\":\"Chrome 0.1.38\",\"Version\":\"1.54345.123\"},\n",
    "            {\"Vendor\":\"Random Corp\",\"Name\":\"Discord Chat and Message 0.0.4\",\"Version\":\"0.5\"},\n",
    "            {\"Vendor\":\"Microsoft Corporation\",\"Name\":\"Microsoft Edge\",\"Version\":\"80.0\"},\n",
    "            {\"Vendor\":\"Spotify\",\"Name\":\"Spotify for Windows\",\"Version\":\"2\"}]"
   ]
  },
  {
   "cell_type": "code",
   "execution_count": 12,
   "metadata": {},
   "outputs": [
    {
     "name": "stdout",
     "output_type": "stream",
     "text": [
      "{'Software': {'Vendor': 'The Git Development Community', 'Name': 'Git', 'Version': '2.36.1'}, 'Best_match': {'CPE': 'cpe:/a:git:git:2.0.1', 'Similarity': 0.9880696387888298}}\n",
      "{'Software': {'Vendor': 'Microsoft Corporation', 'Name': 'Microsoft 365 Apps for enterprise - en-us', 'Version': '16.0.16026.20146'}, 'Best_match': {'CPE': 'cpe:/a:microsoft:365_apps:-', 'Similarity': 0.9644288107273639}}\n",
      "{'Software': {'Vendor': 'Python Software Foundation', 'Name': 'Python 3.9.7 Standard Library (64-bit)', 'Version': '3.9.7150.0'}, 'Best_match': {'CPE': 'cpe:/a:python:python:3.9.7', 'Similarity': 0.9927297418703065}}\n",
      "{'Software': {'Vendor': 'Microsoft Corporation', 'Name': 'Microsoft .NET Host FX Resolver - 6.0.12 (x64)', 'Version': '48.51.51943'}, 'Best_match': {'CPE': 'cpe:/a:microsoft:.net:6.0.0:-', 'Similarity': 0.9702098137845274}}\n"
     ]
    }
   ],
   "source": [
    "all_matches = []\n",
    "\n",
    "for software in software_inventory:\n",
    "    best_match = {\"CPE\":None,\"Similarity\":0}\n",
    "\n",
    "    for cpe in cpe_list:\n",
    "        if software.get(\"Vendor\") and software.get(\"Name\") and software.get(\"Version\"):\n",
    "            similarity_score = return_similarity(cpe,software.get(\"Vendor\"),software.get(\"Name\"),software.get(\"Version\"))\n",
    "        \n",
    "        else: continue\n",
    "\n",
    "        if similarity_score > best_match[\"Similarity\"] and \"a\" in cpe.split(\":\")[1]:\n",
    "            best_match[\"CPE\"] = cpe\n",
    "            best_match[\"Similarity\"] = similarity_score\n",
    "\n",
    "    all_matches.append({\"Software\":software,\"Best_match\":best_match})\n",
    "\n",
    "    if best_match[\"Similarity\"] > 0.95: print(all_matches[-1])\n"
   ]
  }
 ],
 "metadata": {
  "kernelspec": {
   "display_name": "Python 3",
   "language": "python",
   "name": "python3"
  },
  "language_info": {
   "codemirror_mode": {
    "name": "ipython",
    "version": 3
   },
   "file_extension": ".py",
   "mimetype": "text/x-python",
   "name": "python",
   "nbconvert_exporter": "python",
   "pygments_lexer": "ipython3",
   "version": "3.9.7"
  },
  "orig_nbformat": 4,
  "vscode": {
   "interpreter": {
    "hash": "c1770a777f8a707a68323ad32b77ca7cbf6452a898f6348625ef54424c6744df"
   }
  }
 },
 "nbformat": 4,
 "nbformat_minor": 2
}
