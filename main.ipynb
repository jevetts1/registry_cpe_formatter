{
 "cells": [
  {
   "cell_type": "code",
   "execution_count": null,
   "metadata": {},
   "outputs": [],
   "source": [
    "from cpe_dict_loader import *\n",
    "from registry_query import *\n",
    "from cpe_similarity import *\n",
    "import json,random"
   ]
  },
  {
   "cell_type": "code",
   "execution_count": null,
   "metadata": {},
   "outputs": [],
   "source": [
    "software_inventory = get_installed_software()\n",
    "cpe_list = load_cpe_processed_json()"
   ]
  },
  {
   "cell_type": "code",
   "execution_count": null,
   "metadata": {},
   "outputs": [],
   "source": [
    "with open(\"test_cpe_set.json\",\"r\") as file:\n",
    "    test_set = json.load(file)\n",
    "    file.close()"
   ]
  },
  {
   "cell_type": "code",
   "execution_count": null,
   "metadata": {},
   "outputs": [],
   "source": [
    "with open(\"NVD_vendors.txt\",\"r\") as file:\n",
    "    vendors_list = file.read().splitlines()\n",
    "    file.close()"
   ]
  },
  {
   "cell_type": "code",
   "execution_count": null,
   "metadata": {},
   "outputs": [],
   "source": [
    "#******************ENSEMBLE MATCHING******************\n",
    "\n",
    "all_matches = []\n",
    "\n",
    "for software in test_set:\n",
    "    best_match = {\"CPE\":None,\"Similarity\":0}\n",
    "\n",
    "    if software.get(\"Vendor\") and software.get(\"Name\"):  \n",
    "        vendor_importance = assign_importance(software.get(\"Vendor\"),vendors_list)\n",
    "        name_importance = assign_importance(software.get(\"Name\"),vendors_list)\n",
    "        \n",
    "    else:\n",
    "        continue\n",
    "\n",
    "    for cpe in cpe_list:         \n",
    "        score = ensemble_similarity(cpe[1],software.get(\"Vendor\"),software.get(\"Name\"),software.get(\"Version\"),vendor_importance,name_importance)\n",
    "\n",
    "        if score > best_match[\"Similarity\"] and cpe[1][2] == \"a\" and cpe[1][10] in [\"windows\",\"*\"]:\n",
    "            best_match[\"CPE\"] = cpe[0]\n",
    "            best_match[\"Similarity\"] = score\n",
    "\n",
    "    all_matches.append({\"Software\":software,\"Best_match\":best_match})\n",
    "\n",
    "    if all_matches[-1][\"Best_match\"][\"Similarity\"] > 0.0: print(all_matches[-1])"
   ]
  },
  {
   "cell_type": "code",
   "execution_count": null,
   "metadata": {},
   "outputs": [],
   "source": [
    "from gensim.models import FastText as ft\n",
    "from gensim.models.fasttext import load_facebook_model\n",
    "\n",
    "vendors_mapped = list(map(lambda x:[x],vendors_list))\n",
    "\n",
    "model = load_facebook_model(\"crime-and-punishment.bin\")\n",
    "\"\"\"\n",
    "model = ft(vector_size = 4,window = 1,min_count = 1)\n",
    "model.build_vocab(corpus_iterable = vendors_mapped)\n",
    "model.train(corpus_iterable = vendors_mapped,total_examples = len(vendors_mapped),epochs=10)\"\"\""
   ]
  },
  {
   "cell_type": "code",
   "execution_count": null,
   "metadata": {},
   "outputs": [],
   "source": [
    "model.wv.most_similar(\"mifcrosfot\")"
   ]
  },
  {
   "cell_type": "code",
   "execution_count": null,
   "metadata": {},
   "outputs": [],
   "source": [
    "#lookup for vendors DONE\n",
    "#fasttext most_similar \n",
    "#confluence page"
   ]
  }
 ],
 "metadata": {
  "kernelspec": {
   "display_name": "Python 3",
   "language": "python",
   "name": "python3"
  },
  "language_info": {
   "codemirror_mode": {
    "name": "ipython",
    "version": 3
   },
   "file_extension": ".py",
   "mimetype": "text/x-python",
   "name": "python",
   "nbconvert_exporter": "python",
   "pygments_lexer": "ipython3",
   "version": "3.9.7"
  },
  "orig_nbformat": 4,
  "vscode": {
   "interpreter": {
    "hash": "c1770a777f8a707a68323ad32b77ca7cbf6452a898f6348625ef54424c6744df"
   }
  }
 },
 "nbformat": 4,
 "nbformat_minor": 2
}
