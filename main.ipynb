{
 "cells": [
  {
   "cell_type": "code",
   "execution_count": 6,
   "metadata": {},
   "outputs": [],
   "source": [
    "from parse_cpe_xml import *\n",
    "from registry_query import *\n",
    "#from similarity import *\n",
    "from cpe_similarity import *"
   ]
  },
  {
   "cell_type": "code",
   "execution_count": null,
   "metadata": {},
   "outputs": [],
   "source": [
    "software_inventory = get_installed_software()\n",
    "\n",
    "example_cpe = \"cpe:2.3:python:python:3.8.10:*:*:*:*:*:*:*:*\"\n",
    "\n",
    "cpe_vendor = example_cpe.split(\":\")[2]\n",
    "cpe_name = example_cpe.split(\":\")[3]\n",
    "cpe_version = example_cpe.split(\":\")[4]\n",
    "\n",
    "best_match = [{},0]\n",
    "\n",
    "for s in software_inventory:\n",
    "    total_similarity = 0\n",
    "\n",
    "    if s.get(\"Vendor\") and len(s.get(\"Vendor\")) > 0:\n",
    "        vendor_similarity = string_similarity(cpe_vendor,s.get(\"Vendor\"))\n",
    "        total_similarity += vendor_similarity\n",
    "\n",
    "    if s.get(\"Name\") and len(s.get(\"Name\")) > 0:\n",
    "        name_similarity = string_similarity(cpe_name,s.get(\"Name\"))\n",
    "        total_similarity += name_similarity\n",
    "    \n",
    "    if s.get(\"Version\") and len(s.get(\"Version\")) > 0:\n",
    "        version_similarity = string_similarity(cpe_version,s.get(\"Version\"))\n",
    "        total_similarity += version_similarity\n",
    "\n",
    "    if total_similarity > best_match[1]:\n",
    "        best_match = [s,total_similarity]\n",
    "\n",
    "print(best_match)\n",
    "\n",
    "    "
   ]
  },
  {
   "cell_type": "code",
   "execution_count": 2,
   "metadata": {},
   "outputs": [],
   "source": [
    "software_inventory = get_installed_software()"
   ]
  },
  {
   "cell_type": "code",
   "execution_count": 3,
   "metadata": {},
   "outputs": [],
   "source": [
    "cpe_dictionary = return_cpe_df()"
   ]
  },
  {
   "cell_type": "code",
   "execution_count": null,
   "metadata": {},
   "outputs": [],
   "source": [
    "all_matches = []\n",
    "\n",
    "for software in software_inventory[60:61]:\n",
    "    best_match = [None,0]\n",
    "\n",
    "    if software.get(\"Name\"):\n",
    "        name_importance_vector = importance(software[\"Name\"])\n",
    "    \n",
    "    if software.get(\"Vendor\"):\n",
    "        vendor_importance_vector = importance(software[\"Vendor\"])\n",
    "\n",
    "    for i,cpe in enumerate(cpe_dictionary.name.to_list()):\n",
    "        cpe_vendor = cpe.split(\":\")[2]\n",
    "        cpe_name = cpe.split(\":\")[3]\n",
    "        cpe_version = cpe.split(\":\")[4]\n",
    "\n",
    "        total_similarity = 0\n",
    "\n",
    "        if software.get(\"Vendor\") and len(software.get(\"Vendor\")) > 0:\n",
    "            vendor_similarity_score = string_similarity_vector(cpe_vendor,software.get(\"Vendor\"),vendor_importance_vector)\n",
    "            total_similarity += vendor_similarity_score\n",
    "\n",
    "        if software.get(\"Name\") and len(software.get(\"Name\")) > 0:\n",
    "            name_similarity_score = string_similarity_vector(cpe_name,software.get(\"Name\"),name_importance_vector)\n",
    "            total_similarity += name_similarity_score\n",
    "\n",
    "        if software.get(\"Version\") and len(software.get(\"Version\")) > 0:\n",
    "            version_similarity_score = version_similarity(cpe_version,software.get(\"Version\"))\n",
    "            total_similarity += version_similarity_score\n",
    "\n",
    "        if total_similarity > best_match[1] and \"a\" in cpe.split(\":\")[1]:\n",
    "            best_match = [cpe,total_similarity]\n",
    "    \n",
    "    all_matches.append([software,best_match])\n",
    "\n",
    "for match in all_matches:\n",
    "    print(match)\n",
    "        "
   ]
  },
  {
   "cell_type": "code",
   "execution_count": 9,
   "metadata": {},
   "outputs": [],
   "source": [
    "all_matches = []\n",
    "\n",
    "for software in software_inventory:\n",
    "    best_match = [None,0]\n",
    "\n",
    "    for cpe in cpe_dictionary.name.to_list():\n",
    "        if software.get(\"Vendor\") and software.get(\"Name\") and software.get(\"Version\"):\n",
    "            similarity_score = return_similarity(cpe,software.get(\"Vendor\"),software.get(\"Name\"),software.get(\"Version\"))\n",
    "        \n",
    "        else: continue\n",
    "\n",
    "        if similarity_score > best_match[1] and \"a\" in cpe.split(\":\")[1]:\n",
    "            best_match = [cpe,similarity_score]\n",
    "\n",
    "    all_matches.append([software,best_match])\n",
    "\n",
    "for match in all_matches:\n",
    "    if match[1][0] != None: print(match[1][0])\n"
   ]
  }
 ],
 "metadata": {
  "kernelspec": {
   "display_name": "Python 3",
   "language": "python",
   "name": "python3"
  },
  "language_info": {
   "codemirror_mode": {
    "name": "ipython",
    "version": 3
   },
   "file_extension": ".py",
   "mimetype": "text/x-python",
   "name": "python",
   "nbconvert_exporter": "python",
   "pygments_lexer": "ipython3",
   "version": "3.9.7"
  },
  "orig_nbformat": 4,
  "vscode": {
   "interpreter": {
    "hash": "c1770a777f8a707a68323ad32b77ca7cbf6452a898f6348625ef54424c6744df"
   }
  }
 },
 "nbformat": 4,
 "nbformat_minor": 2
}
