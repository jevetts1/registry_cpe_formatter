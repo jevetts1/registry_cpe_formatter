{
 "cells": [
  {
   "cell_type": "code",
   "execution_count": 1,
   "metadata": {},
   "outputs": [],
   "source": [
    "from cpe_dict_loader import *\n",
    "from registry_query import *\n",
    "from cpe_similarity import *\n",
    "from ml_importance import *\n",
    "import json,random"
   ]
  },
  {
   "cell_type": "code",
   "execution_count": null,
   "metadata": {},
   "outputs": [],
   "source": [
    "software_inventory = get_installed_software()\n",
    "cpe_list = load_cpe_processed_json()"
   ]
  },
  {
   "cell_type": "code",
   "execution_count": null,
   "metadata": {},
   "outputs": [],
   "source": [
    "test_set = [{\"Vendor\":\"Google Corporation LTD\",\"Name\":\"Chrome 0.1.38\",\"Version\":\"1.54345.123\"},\n",
    "            {\"Vendor\":\"Random Corp\",\"Name\":\"Discord Chat and Message 0.0.4\",\"Version\":\"0.5\"},\n",
    "            {\"Vendor\":\"Microsoft Corporation\",\"Name\":\"Microsoft Edge\",\"Version\":\"80.0\"},\n",
    "            {\"Vendor\":\"Spotify\",\"Name\":\"Spotify for Windows\",\"Version\":\"2\"},\n",
    "            {\"Vendor\":\"Python Software Foundation\",\"Name\":\"Python 2.7 (x64) Binary\",\"Version\":\"2\"}]\n",
    "\n",
    "with open(\"test_cpe_set.json\",\"r\") as file:\n",
    "    test_set = json.load(file)"
   ]
  },
  {
   "cell_type": "code",
   "execution_count": null,
   "metadata": {},
   "outputs": [],
   "source": [
    "#******************ENSEMBLE MATCHING******************\n",
    "\n",
    "all_matches = []\n",
    "\n",
    "for software in test_set:\n",
    "    best_match = {\"CPE\":None,\"Similarity\":0}\n",
    "\n",
    "    if software.get(\"Vendor\") and software.get(\"Name\"):  \n",
    "        name_importance = return_importance_vector(software.get(\"Name\"))\n",
    "        vendor_importance = return_importance_vector(software.get(\"Vendor\"))\n",
    "\n",
    "    else:\n",
    "        continue\n",
    "\n",
    "    for cpe in cpe_list:         \n",
    "        score = ensemble_similarity(cpe[1],software.get(\"Vendor\"),software.get(\"Name\"),software.get(\"Version\"),vendor_importance,name_importance)\n",
    "\n",
    "        if score > best_match[\"Similarity\"] and cpe[1][2] == \"a\" and cpe[1][10] in [\"windows\",\"*\"]:\n",
    "            best_match[\"CPE\"] = cpe[0]\n",
    "            best_match[\"Similarity\"] = score\n",
    "\n",
    "    all_matches.append({\"Software\":software,\"Best_match\":best_match})\n",
    "\n",
    "    if all_matches[-1][\"Best_match\"][\"Similarity\"] > 0.0: print(all_matches[-1])"
   ]
  },
  {
   "cell_type": "code",
   "execution_count": 13,
   "metadata": {},
   "outputs": [],
   "source": [
    "create_cpe_txt_cleaned()"
   ]
  },
  {
   "cell_type": "code",
   "execution_count": 14,
   "metadata": {},
   "outputs": [],
   "source": [
    "import fasttext\n",
    "model = fasttext.train_unsupervised(\"NVD_cpes_cleaned.txt\")\n"
   ]
  },
  {
   "cell_type": "code",
   "execution_count": 18,
   "metadata": {},
   "outputs": [
    {
     "data": {
      "text/plain": [
       "[(0.9294102787971497, 'microsoft_hyper-v'),\n",
       " (0.920555591583252, 'microsoft_azure'),\n",
       " (0.8652738928794861, 'microsoft.aspnetcore.mvc'),\n",
       " (0.8583853840827942, 'qibosoft'),\n",
       " (0.8485546708106995, 'microco'),\n",
       " (0.8438853025436401, 'microsoft.aspnetcore.mvc.razor'),\n",
       " (0.8423499464988708, 'microk8s'),\n",
       " (0.8412947058677673, 'microsoft_exchange'),\n",
       " (0.8385860323905945, 'novosoft'),\n",
       " (0.8376108407974243, 'microseven')]"
      ]
     },
     "execution_count": 18,
     "metadata": {},
     "output_type": "execute_result"
    }
   ],
   "source": [
    "model.get_nearest_neighbors(\"microsoft\")\n",
    "#could use this function on the cpe software vendor, and if it returns something similar to what's in the software name or vendor increase the score?\n",
    "#or better, use it to search for a wider array of cpes: since the names are often different, using this function could give an idea of similar names that are already in the cpe dataset"
   ]
  }
 ],
 "metadata": {
  "kernelspec": {
   "display_name": "Python 3",
   "language": "python",
   "name": "python3"
  },
  "language_info": {
   "codemirror_mode": {
    "name": "ipython",
    "version": 3
   },
   "file_extension": ".py",
   "mimetype": "text/x-python",
   "name": "python",
   "nbconvert_exporter": "python",
   "pygments_lexer": "ipython3",
   "version": "3.9.7"
  },
  "orig_nbformat": 4,
  "vscode": {
   "interpreter": {
    "hash": "c1770a777f8a707a68323ad32b77ca7cbf6452a898f6348625ef54424c6744df"
   }
  }
 },
 "nbformat": 4,
 "nbformat_minor": 2
}
