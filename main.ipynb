{
 "cells": [
  {
   "cell_type": "code",
   "execution_count": 1,
   "metadata": {},
   "outputs": [],
   "source": [
    "from cpe_dict_loader import *\n",
    "from registry_query import *\n",
    "from cpe_similarity import *"
   ]
  },
  {
   "cell_type": "code",
   "execution_count": 4,
   "metadata": {},
   "outputs": [],
   "source": [
    "software_inventory = get_installed_software()"
   ]
  },
  {
   "cell_type": "code",
   "execution_count": 2,
   "metadata": {},
   "outputs": [
    {
     "data": {
      "text/plain": [
       "'c:\\\\Users\\\\jayde\\\\Desktop\\\\KAZE work\\\\registry_cpe_formatter\\\\NVD_cpes.txt'"
      ]
     },
     "execution_count": 2,
     "metadata": {},
     "output_type": "execute_result"
    }
   ],
   "source": [
    "create_cpe_txt()"
   ]
  },
  {
   "cell_type": "code",
   "execution_count": 3,
   "metadata": {},
   "outputs": [
    {
     "name": "stdout",
     "output_type": "stream",
     "text": [
      "cpe:/a:%240.99_kindle_books_project:%240.99_kindle_books:6::~~~android~~\n",
      "\n"
     ]
    }
   ],
   "source": [
    "cpe_list = load_cpe_txt()\n",
    "\n",
    "print(cpe_list[0])"
   ]
  },
  {
   "cell_type": "code",
   "execution_count": 5,
   "metadata": {},
   "outputs": [
    {
     "name": "stdout",
     "output_type": "stream",
     "text": [
      "{'Software': {'Vendor': 'Advanced Micro Devices, Inc.', 'Name': 'AMD Software', 'Version': '22.9.1'}, 'Best_match': {'CPE': 'cpe:/a:amd:radeon_software:20.7.1\\n', 'Similarity': 0.4708663709279532}}\n",
      "{'Software': {}, 'Best_match': {'CPE': None, 'Similarity': 0}}\n",
      "{'Software': {'Vendor': 'Disc Soft Ltd', 'Name': 'DAEMON Tools Ultra', 'Version': '6.1.0.1753'}, 'Best_match': {'CPE': 'cpe:/a:disc-soft:daemon_tools:8.3.0.0767::~~pro~~~\\n', 'Similarity': 0.6204989777483593}}\n",
      "{'Software': {'Vendor': 'Easeware', 'Name': 'Driver Easy 5.6.14', 'Version': '5.6.14'}, 'Best_match': {'CPE': 'cpe:/a:r_project:r:3.6.2\\n', 'Similarity': 0.49583342978127154}}\n",
      "{'Software': {'Vendor': 'DREVO Inc.', 'Name': 'Tyrfing V2 Gaming Keyboard 2.0.4.0', 'Version': '2.0.4.0'}, 'Best_match': {'CPE': 'cpe:/a:docker:desktop:2.0.4.0::~~edge~~~\\n', 'Similarity': 0.46049915422909393}}\n",
      "{'Software': {'Vendor': 'Samsung Electronics', 'Name': 'Galaxy Watch Designer 1.8.0', 'Version': '1.8.0'}, 'Best_match': {'CPE': 'cpe:/a:samsung:samsung_members:1.8.09\\n', 'Similarity': 0.7995258146778353}}\n",
      "{'Software': {'Vendor': 'The Git Development Community', 'Name': 'Git', 'Version': '2.36.1'}, 'Best_match': {'CPE': 'cpe:/a:git:git:2.0.0\\n', 'Similarity': 0.9834280559052615}}\n",
      "{'Software': {'Vendor': 'Logitech Inc.', 'Name': 'Logitech Gaming Software 9.02', 'Version': '9.02.65'}, 'Best_match': {'CPE': 'cpe:/a:logitech:game_software:9.02.61\\n', 'Similarity': 0.9470163675939373}}\n",
      "{'Software': {'Vendor': 'Microsoft Corporation', 'Name': 'Microsoft 365 Apps for enterprise - en-us', 'Version': '16.0.16026.20146'}, 'Best_match': {'CPE': 'cpe:/a:microsoft:365_apps:-\\n', 'Similarity': 0.9644288107273639}}\n",
      "{'Software': {'Name': 'Prio', 'Version': '2.1.0.4391'}, 'Best_match': {'CPE': None, 'Similarity': 0}}\n"
     ]
    }
   ],
   "source": [
    "all_matches = []\n",
    "\n",
    "for software in software_inventory[50:60]:\n",
    "    best_match = {\"CPE\":None,\"Similarity\":0}\n",
    "\n",
    "    for cpe in cpe_list:\n",
    "        if software.get(\"Vendor\") and software.get(\"Name\") and software.get(\"Version\"):\n",
    "            similarity_score = return_similarity(cpe,software.get(\"Vendor\"),software.get(\"Name\"),software.get(\"Version\"))\n",
    "        \n",
    "        else: continue\n",
    "\n",
    "        if similarity_score > best_match[\"Similarity\"] and \"a\" in cpe.split(\":\")[1]:\n",
    "            best_match[\"CPE\"] = cpe\n",
    "            best_match[\"Similarity\"] = similarity_score\n",
    "\n",
    "    all_matches.append({\"Software\":software,\"Best_match\":best_match})\n",
    "\n",
    "for match in all_matches:\n",
    "    print(match)\n"
   ]
  }
 ],
 "metadata": {
  "kernelspec": {
   "display_name": "Python 3",
   "language": "python",
   "name": "python3"
  },
  "language_info": {
   "codemirror_mode": {
    "name": "ipython",
    "version": 3
   },
   "file_extension": ".py",
   "mimetype": "text/x-python",
   "name": "python",
   "nbconvert_exporter": "python",
   "pygments_lexer": "ipython3",
   "version": "3.9.7"
  },
  "orig_nbformat": 4,
  "vscode": {
   "interpreter": {
    "hash": "c1770a777f8a707a68323ad32b77ca7cbf6452a898f6348625ef54424c6744df"
   }
  }
 },
 "nbformat": 4,
 "nbformat_minor": 2
}
