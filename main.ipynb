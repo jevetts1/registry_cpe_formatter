{
 "cells": [
  {
   "cell_type": "code",
   "execution_count": 2,
   "metadata": {},
   "outputs": [],
   "source": [
    "from parse_cpe_xml import *\n",
    "from registry_query import *\n",
    "from similarity import *"
   ]
  },
  {
   "cell_type": "code",
   "execution_count": 6,
   "metadata": {},
   "outputs": [
    {
     "name": "stdout",
     "output_type": "stream",
     "text": [
      "[{'Name': 'Python 3.7.4 Test Suite (64-bit)', 'Vendor': 'Python Software Foundation', 'Version': '3.7.4150.0'}, 2.1590020032561905]\n"
     ]
    }
   ],
   "source": [
    "software_inventory = get_installed_software()\n",
    "\n",
    "example_cpe = \"cpe:2.3:python:python:3.8.10:*:*:*:*:*:*:*:*\"\n",
    "\n",
    "cpe_vendor = example_cpe.split(\":\")[2]\n",
    "cpe_name = example_cpe.split(\":\")[3]\n",
    "cpe_version = example_cpe.split(\":\")[4]\n",
    "\n",
    "best_match = [{},0]\n",
    "\n",
    "for s in software_inventory:\n",
    "    total_similarity = 0\n",
    "\n",
    "    if s.get(\"Vendor\") and len(s.get(\"Vendor\")) > 0:\n",
    "        vendor_similarity = string_similarity(cpe_vendor,s.get(\"Vendor\"))\n",
    "        total_similarity += vendor_similarity\n",
    "\n",
    "    if s.get(\"Name\") and len(s.get(\"Name\")) > 0:\n",
    "        name_similarity = string_similarity(cpe_name,s.get(\"Name\"))\n",
    "        total_similarity += name_similarity\n",
    "    \n",
    "    if s.get(\"Version\") and len(s.get(\"Version\")) > 0:\n",
    "        version_similarity = string_similarity(cpe_version,s.get(\"Version\"))\n",
    "        total_similarity += version_similarity\n",
    "\n",
    "    if total_similarity > best_match[1]:\n",
    "        best_match = [s,total_similarity]\n",
    "\n",
    "print(best_match)\n",
    "\n",
    "    "
   ]
  }
 ],
 "metadata": {
  "kernelspec": {
   "display_name": "Python 3",
   "language": "python",
   "name": "python3"
  },
  "language_info": {
   "codemirror_mode": {
    "name": "ipython",
    "version": 3
   },
   "file_extension": ".py",
   "mimetype": "text/x-python",
   "name": "python",
   "nbconvert_exporter": "python",
   "pygments_lexer": "ipython3",
   "version": "3.8.10"
  },
  "orig_nbformat": 4,
  "vscode": {
   "interpreter": {
    "hash": "44347789d1a6e37ec7ce96e4d2061c480de10b3564d4421cefbe46e13ca36ee2"
   }
  }
 },
 "nbformat": 4,
 "nbformat_minor": 2
}
