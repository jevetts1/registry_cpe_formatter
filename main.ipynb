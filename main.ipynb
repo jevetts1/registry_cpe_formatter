{
 "cells": [
  {
   "cell_type": "code",
   "execution_count": 7,
   "metadata": {},
   "outputs": [],
   "source": [
    "from cpe_dict_loader import *\n",
    "from registry_query import *\n",
    "from cpe_similarity import *"
   ]
  },
  {
   "cell_type": "code",
   "execution_count": 8,
   "metadata": {},
   "outputs": [],
   "source": [
    "software_inventory = get_installed_software()"
   ]
  },
  {
   "cell_type": "code",
   "execution_count": 9,
   "metadata": {},
   "outputs": [],
   "source": [
    "cpe_list = load_cpe_processed_json()"
   ]
  },
  {
   "cell_type": "code",
   "execution_count": 10,
   "metadata": {},
   "outputs": [],
   "source": [
    "test_set = [{\"Vendor\":\"Google Corporation LTD\",\"Name\":\"Chrome 0.1.38\",\"Version\":\"1.54345.123\"},\n",
    "            {\"Vendor\":\"Random Corp\",\"Name\":\"Discord Chat and Message 0.0.4\",\"Version\":\"0.5\"},\n",
    "            {\"Vendor\":\"Microsoft Corporation\",\"Name\":\"Microsoft Edge\",\"Version\":\"80.0\"},\n",
    "            {\"Vendor\":\"Spotify\",\"Name\":\"Spotify for Windows\",\"Version\":\"2\"},\n",
    "            {\"Vendor\":\"Python Software Foundation\",\"Name\":\"Python\",\"Version\":\"2\"}]"
   ]
  },
  {
   "cell_type": "code",
   "execution_count": 11,
   "metadata": {},
   "outputs": [
    {
     "name": "stdout",
     "output_type": "stream",
     "text": [
      "{'Software': {'Vendor': 'Google Corporation LTD', 'Name': 'Chrome 0.1.38', 'Version': '1.54345.123'}, 'Best_match': {'CPE': 'cpe:2.3:a:google:chrome:0.1.38.1:*:*:*:*:*:*:*', 'Similarity': 0.8411308951190849}}\n",
      "{'Software': {'Vendor': 'Random Corp', 'Name': 'Discord Chat and Message 0.0.4', 'Version': '0.5'}, 'Best_match': {'CPE': 'cpe:2.3:a:discord:discord-recon:0.0.4:*:*:*:*:*:*:*', 'Similarity': 0.6466089943284299}}\n",
      "{'Software': {'Vendor': 'Microsoft Corporation', 'Name': 'Microsoft Edge', 'Version': '80.0'}, 'Best_match': {'CPE': 'cpe:2.3:a:microsoft:edge:80.0.361.48:*:*:*:*:*:*:*', 'Similarity': 0.7879311956428947}}\n",
      "{'Software': {'Vendor': 'Spotify', 'Name': 'Spotify for Windows', 'Version': '2'}, 'Best_match': {'CPE': 'cpe:2.3:a:spotify:spotify:1.0.69.336:*:*:*:*:*:*:*', 'Similarity': 0.5467381519846138}}\n"
     ]
    }
   ],
   "source": [
    "all_matches = []\n",
    "\n",
    "for software in test_set:\n",
    "    best_match = {\"CPE\":None,\"Similarity\":0}\n",
    "\n",
    "    for cpe in cpe_list:\n",
    "        if software.get(\"Vendor\") and software.get(\"Name\"):               \n",
    "            similarity_score = return_similarity(cpe[1],software.get(\"Vendor\"),software.get(\"Name\"),software.get(\"Version\"))\n",
    "        \n",
    "        else: continue\n",
    "\n",
    "        if similarity_score > best_match[\"Similarity\"] and cpe[1][2] == \"a\":\n",
    "            best_match[\"CPE\"] = cpe[0]\n",
    "            best_match[\"Similarity\"] = similarity_score\n",
    "\n",
    "    all_matches.append({\"Software\":software,\"Best_match\":best_match})\n",
    "\n",
    "    print(all_matches[-1])\n"
   ]
  }
 ],
 "metadata": {
  "kernelspec": {
   "display_name": "Python 3",
   "language": "python",
   "name": "python3"
  },
  "language_info": {
   "codemirror_mode": {
    "name": "ipython",
    "version": 3
   },
   "file_extension": ".py",
   "mimetype": "text/x-python",
   "name": "python",
   "nbconvert_exporter": "python",
   "pygments_lexer": "ipython3",
   "version": "3.9.7"
  },
  "orig_nbformat": 4,
  "vscode": {
   "interpreter": {
    "hash": "c1770a777f8a707a68323ad32b77ca7cbf6452a898f6348625ef54424c6744df"
   }
  }
 },
 "nbformat": 4,
 "nbformat_minor": 2
}
